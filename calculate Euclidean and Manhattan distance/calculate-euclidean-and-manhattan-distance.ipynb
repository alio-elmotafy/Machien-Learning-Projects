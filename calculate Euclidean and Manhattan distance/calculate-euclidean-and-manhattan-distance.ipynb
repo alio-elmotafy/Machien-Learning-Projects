{
 "cells": [
  {
   "cell_type": "markdown",
   "id": "5122a183",
   "metadata": {
    "_cell_guid": "b1076dfc-b9ad-4769-8c92-a6c4dae69d19",
    "_uuid": "8f2839f25d086af736a60e9eeb907d3b93b6e0e5",
    "papermill": {
     "duration": 0.007298,
     "end_time": "2025-07-20T04:57:41.528868",
     "exception": false,
     "start_time": "2025-07-20T04:57:41.521570",
     "status": "completed"
    },
    "tags": []
   },
   "source": [
    "\n",
    "# Calculate Euclidean and Manhattan Distance"
   ]
  },
  {
   "cell_type": "markdown",
   "id": "d28b44f0",
   "metadata": {
    "execution": {
     "iopub.execute_input": "2025-07-20T04:22:26.334103Z",
     "iopub.status.busy": "2025-07-20T04:22:26.333714Z",
     "iopub.status.idle": "2025-07-20T04:22:26.340735Z",
     "shell.execute_reply": "2025-07-20T04:22:26.339513Z",
     "shell.execute_reply.started": "2025-07-20T04:22:26.334070Z"
    },
    "papermill": {
     "duration": 0.006179,
     "end_time": "2025-07-20T04:57:41.541366",
     "exception": false,
     "start_time": "2025-07-20T04:57:41.535187",
     "status": "completed"
    },
    "tags": []
   },
   "source": [
    "## Importing The Dependencies"
   ]
  },
  {
   "cell_type": "code",
   "execution_count": 1,
   "id": "6bca4bba",
   "metadata": {
    "execution": {
     "iopub.execute_input": "2025-07-20T04:57:41.554266Z",
     "iopub.status.busy": "2025-07-20T04:57:41.553832Z",
     "iopub.status.idle": "2025-07-20T04:57:43.831127Z",
     "shell.execute_reply": "2025-07-20T04:57:43.830048Z"
    },
    "papermill": {
     "duration": 2.286538,
     "end_time": "2025-07-20T04:57:43.833729",
     "exception": false,
     "start_time": "2025-07-20T04:57:41.547191",
     "status": "completed"
    },
    "tags": []
   },
   "outputs": [],
   "source": [
    "\n",
    "import numpy as np \n",
    "import pandas as pd "
   ]
  },
  {
   "cell_type": "markdown",
   "id": "a25c437d",
   "metadata": {
    "papermill": {
     "duration": 0.00587,
     "end_time": "2025-07-20T04:57:43.845416",
     "exception": false,
     "start_time": "2025-07-20T04:57:43.839546",
     "status": "completed"
    },
    "tags": []
   },
   "source": [
    "# Eucliden Distance"
   ]
  },
  {
   "attachments": {
    "0da97a8f-ee2f-4d68-8736-1223169605bb.jpg": {
     "image/jpeg": "[encoded data removed]"
    },
    "2c8ad0e9-1821-4934-9a9d-05dcb58add06.jpg": {
     "image/jpeg": "[encoded data removed]"
    }
   },
   "cell_type": "markdown",
   "id": "84631647",
   "metadata": {
    "papermill": {
     "duration": 0.006108,
     "end_time": "2025-07-20T04:57:43.857127",
     "exception": false,
     "start_time": "2025-07-20T04:57:43.851019",
     "status": "completed"
    },
    "tags": []
   },
   "source": [
    "![Screenshot 2025-07-20 072344.jpg](attachment:0da97a8f-ee2f-4d68-8736-1223169605bb.jpg)"
   ]
  },
  {
   "cell_type": "markdown",
   "id": "7d3fb8e4",
   "metadata": {
    "papermill": {
     "duration": 0.00553,
     "end_time": "2025-07-20T04:57:43.868198",
     "exception": false,
     "start_time": "2025-07-20T04:57:43.862668",
     "status": "completed"
    },
    "tags": []
   },
   "source": [
    "### consider two points with 2 dimensions"
   ]
  },
  {
   "cell_type": "code",
   "execution_count": 2,
   "id": "787a0ad0",
   "metadata": {
    "execution": {
     "iopub.execute_input": "2025-07-20T04:57:43.881839Z",
     "iopub.status.busy": "2025-07-20T04:57:43.880947Z",
     "iopub.status.idle": "2025-07-20T04:57:43.886102Z",
     "shell.execute_reply": "2025-07-20T04:57:43.884886Z"
    },
    "papermill": {
     "duration": 0.014125,
     "end_time": "2025-07-20T04:57:43.887890",
     "exception": false,
     "start_time": "2025-07-20T04:57:43.873765",
     "status": "completed"
    },
    "tags": []
   },
   "outputs": [],
   "source": [
    "p1 = (1,1)\n",
    "p2 = (2,2)"
   ]
  },
  {
   "cell_type": "markdown",
   "id": "b0a34a26",
   "metadata": {
    "papermill": {
     "duration": 0.005338,
     "end_time": "2025-07-20T04:57:43.899096",
     "exception": false,
     "start_time": "2025-07-20T04:57:43.893758",
     "status": "completed"
    },
    "tags": []
   },
   "source": [
    "### Calculating Euclidean Distance"
   ]
  },
  {
   "cell_type": "code",
   "execution_count": 3,
   "id": "cdc834ba",
   "metadata": {
    "execution": {
     "iopub.execute_input": "2025-07-20T04:57:43.911838Z",
     "iopub.status.busy": "2025-07-20T04:57:43.911523Z",
     "iopub.status.idle": "2025-07-20T04:57:43.919265Z",
     "shell.execute_reply": "2025-07-20T04:57:43.918220Z"
    },
    "papermill": {
     "duration": 0.015706,
     "end_time": "2025-07-20T04:57:43.920864",
     "exception": false,
     "start_time": "2025-07-20T04:57:43.905158",
     "status": "completed"
    },
    "tags": []
   },
   "outputs": [
    {
     "data": {
      "text/plain": [
       "1.4142135623730951"
      ]
     },
     "execution_count": 3,
     "metadata": {},
     "output_type": "execute_result"
    }
   ],
   "source": [
    "distance = (p1[0] - p2[0])**2 + (p1[1] - p2[1])**2\n",
    "\n",
    "euclidean_distance = np.sqrt(distance)\n",
    "\n",
    "euclidean_distance #2**1/2"
   ]
  },
  {
   "cell_type": "markdown",
   "id": "05925b5c",
   "metadata": {
    "execution": {
     "iopub.execute_input": "2025-07-20T04:30:24.910694Z",
     "iopub.status.busy": "2025-07-20T04:30:24.909957Z",
     "iopub.status.idle": "2025-07-20T04:30:24.915317Z",
     "shell.execute_reply": "2025-07-20T04:30:24.914122Z",
     "shell.execute_reply.started": "2025-07-20T04:30:24.910660Z"
    },
    "papermill": {
     "duration": 0.006045,
     "end_time": "2025-07-20T04:57:43.933156",
     "exception": false,
     "start_time": "2025-07-20T04:57:43.927111",
     "status": "completed"
    },
    "tags": []
   },
   "source": [
    "### consider two points with 3 dimensions"
   ]
  },
  {
   "cell_type": "code",
   "execution_count": 4,
   "id": "1a0a0ce6",
   "metadata": {
    "execution": {
     "iopub.execute_input": "2025-07-20T04:57:43.946772Z",
     "iopub.status.busy": "2025-07-20T04:57:43.946468Z",
     "iopub.status.idle": "2025-07-20T04:57:43.951113Z",
     "shell.execute_reply": "2025-07-20T04:57:43.950071Z"
    },
    "papermill": {
     "duration": 0.013273,
     "end_time": "2025-07-20T04:57:43.952734",
     "exception": false,
     "start_time": "2025-07-20T04:57:43.939461",
     "status": "completed"
    },
    "tags": []
   },
   "outputs": [],
   "source": [
    "p1 = (1,1,1)\n",
    "p2 = (2,2,2)"
   ]
  },
  {
   "cell_type": "markdown",
   "id": "4eebbd6e",
   "metadata": {
    "execution": {
     "iopub.execute_input": "2025-07-20T04:30:25.825038Z",
     "iopub.status.busy": "2025-07-20T04:30:25.824642Z",
     "iopub.status.idle": "2025-07-20T04:30:25.829620Z",
     "shell.execute_reply": "2025-07-20T04:30:25.828321Z",
     "shell.execute_reply.started": "2025-07-20T04:30:25.825009Z"
    },
    "papermill": {
     "duration": 0.005394,
     "end_time": "2025-07-20T04:57:43.964177",
     "exception": false,
     "start_time": "2025-07-20T04:57:43.958783",
     "status": "completed"
    },
    "tags": []
   },
   "source": [
    "### Calculating Euclidean Distance"
   ]
  },
  {
   "cell_type": "code",
   "execution_count": 5,
   "id": "b6e0bb40",
   "metadata": {
    "execution": {
     "iopub.execute_input": "2025-07-20T04:57:43.977553Z",
     "iopub.status.busy": "2025-07-20T04:57:43.977235Z",
     "iopub.status.idle": "2025-07-20T04:57:43.984516Z",
     "shell.execute_reply": "2025-07-20T04:57:43.983239Z"
    },
    "papermill": {
     "duration": 0.016124,
     "end_time": "2025-07-20T04:57:43.986409",
     "exception": false,
     "start_time": "2025-07-20T04:57:43.970285",
     "status": "completed"
    },
    "tags": []
   },
   "outputs": [
    {
     "data": {
      "text/plain": [
       "1.7320508075688772"
      ]
     },
     "execution_count": 5,
     "metadata": {},
     "output_type": "execute_result"
    }
   ],
   "source": [
    "distance = (p1[0] - p2[0])**2 + (p1[1] - p2[1])**2 + (p1[2] - p2[2])**2 \n",
    "\n",
    "euclidean_distance = np.sqrt(distance)\n",
    "\n",
    "euclidean_distance #2**1/3"
   ]
  },
  {
   "cell_type": "markdown",
   "id": "0a5307ea",
   "metadata": {
    "papermill": {
     "duration": 0.009325,
     "end_time": "2025-07-20T04:57:44.003483",
     "exception": false,
     "start_time": "2025-07-20T04:57:43.994158",
     "status": "completed"
    },
    "tags": []
   },
   "source": [
    "### consider two points with 4 dimensions"
   ]
  },
  {
   "cell_type": "code",
   "execution_count": 6,
   "id": "2d35134c",
   "metadata": {
    "execution": {
     "iopub.execute_input": "2025-07-20T04:57:44.020852Z",
     "iopub.status.busy": "2025-07-20T04:57:44.019722Z",
     "iopub.status.idle": "2025-07-20T04:57:44.025078Z",
     "shell.execute_reply": "2025-07-20T04:57:44.023910Z"
    },
    "papermill": {
     "duration": 0.015303,
     "end_time": "2025-07-20T04:57:44.026982",
     "exception": false,
     "start_time": "2025-07-20T04:57:44.011679",
     "status": "completed"
    },
    "tags": []
   },
   "outputs": [],
   "source": [
    "p1 = (1,1,1,1)\n",
    "p2 = (2,2,2,2)"
   ]
  },
  {
   "cell_type": "markdown",
   "id": "614f7c67",
   "metadata": {
    "papermill": {
     "duration": 0.005473,
     "end_time": "2025-07-20T04:57:44.039070",
     "exception": false,
     "start_time": "2025-07-20T04:57:44.033597",
     "status": "completed"
    },
    "tags": []
   },
   "source": [
    "### Calculating Eucliden Distance"
   ]
  },
  {
   "cell_type": "code",
   "execution_count": 7,
   "id": "43ccbdd9",
   "metadata": {
    "execution": {
     "iopub.execute_input": "2025-07-20T04:57:44.053906Z",
     "iopub.status.busy": "2025-07-20T04:57:44.053612Z",
     "iopub.status.idle": "2025-07-20T04:57:44.061289Z",
     "shell.execute_reply": "2025-07-20T04:57:44.060303Z"
    },
    "papermill": {
     "duration": 0.017963,
     "end_time": "2025-07-20T04:57:44.062714",
     "exception": false,
     "start_time": "2025-07-20T04:57:44.044751",
     "status": "completed"
    },
    "tags": []
   },
   "outputs": [
    {
     "data": {
      "text/plain": [
       "2.0"
      ]
     },
     "execution_count": 7,
     "metadata": {},
     "output_type": "execute_result"
    }
   ],
   "source": [
    "distance = 0\n",
    "\n",
    "for i in range(len(p1)):\n",
    "    distance += (p1[i]-p2[i])**2\n",
    "\n",
    "\n",
    "euclidean_distance = np.sqrt(distance)\n",
    "euclidean_distance"
   ]
  },
  {
   "cell_type": "markdown",
   "id": "00cccc34",
   "metadata": {
    "papermill": {
     "duration": 0.005389,
     "end_time": "2025-07-20T04:57:44.074001",
     "exception": false,
     "start_time": "2025-07-20T04:57:44.068612",
     "status": "completed"
    },
    "tags": []
   },
   "source": [
    "## Function to Calculating Euclidean Distance"
   ]
  },
  {
   "cell_type": "code",
   "execution_count": 8,
   "id": "fbb9b40b",
   "metadata": {
    "execution": {
     "iopub.execute_input": "2025-07-20T04:57:44.086577Z",
     "iopub.status.busy": "2025-07-20T04:57:44.086244Z",
     "iopub.status.idle": "2025-07-20T04:57:44.091651Z",
     "shell.execute_reply": "2025-07-20T04:57:44.090738Z"
    },
    "papermill": {
     "duration": 0.013594,
     "end_time": "2025-07-20T04:57:44.093276",
     "exception": false,
     "start_time": "2025-07-20T04:57:44.079682",
     "status": "completed"
    },
    "tags": []
   },
   "outputs": [],
   "source": [
    "def euclidean_distance(p1,p2):\n",
    "    distance = 0\n",
    "\n",
    "    for i in range(len(p1)):\n",
    "        distance += (p1[i]-p2[i])**2\n",
    "\n",
    "\n",
    "    eucliden_distance = np.sqrt(distance)\n",
    "    \n",
    "    return eucliden_distance"
   ]
  },
  {
   "cell_type": "code",
   "execution_count": 9,
   "id": "c11d4d0b",
   "metadata": {
    "execution": {
     "iopub.execute_input": "2025-07-20T04:57:44.106234Z",
     "iopub.status.busy": "2025-07-20T04:57:44.105898Z",
     "iopub.status.idle": "2025-07-20T04:57:44.112800Z",
     "shell.execute_reply": "2025-07-20T04:57:44.111541Z"
    },
    "papermill": {
     "duration": 0.015323,
     "end_time": "2025-07-20T04:57:44.114610",
     "exception": false,
     "start_time": "2025-07-20T04:57:44.099287",
     "status": "completed"
    },
    "tags": []
   },
   "outputs": [
    {
     "data": {
      "text/plain": [
       "2.0"
      ]
     },
     "execution_count": 9,
     "metadata": {},
     "output_type": "execute_result"
    }
   ],
   "source": [
    "euclidean_distance(p1,p2)"
   ]
  },
  {
   "cell_type": "markdown",
   "id": "bcf511b7",
   "metadata": {
    "execution": {
     "iopub.execute_input": "2025-07-20T04:24:38.826795Z",
     "iopub.status.busy": "2025-07-20T04:24:38.826320Z",
     "iopub.status.idle": "2025-07-20T04:24:38.832888Z",
     "shell.execute_reply": "2025-07-20T04:24:38.831034Z",
     "shell.execute_reply.started": "2025-07-20T04:24:38.826760Z"
    },
    "papermill": {
     "duration": 0.005594,
     "end_time": "2025-07-20T04:57:44.126544",
     "exception": false,
     "start_time": "2025-07-20T04:57:44.120950",
     "status": "completed"
    },
    "tags": []
   },
   "source": [
    "# Manhattan Distance"
   ]
  },
  {
   "attachments": {
    "057c4c20-bcb8-4baa-8239-fcad2e1858b5.jpg": {
     "image/jpeg": "[encoded data removed]"
    },
    "72b8635d-a3b8-4212-b7a7-6b2fd2e81368.jpg": {
     "image/jpeg": "[encoded data removed]"
    }
   },
   "cell_type": "markdown",
   "id": "a8a983b5",
   "metadata": {
    "papermill": {
     "duration": 0.006455,
     "end_time": "2025-07-20T04:57:44.138896",
     "exception": false,
     "start_time": "2025-07-20T04:57:44.132441",
     "status": "completed"
    },
    "tags": []
   },
   "source": [
    "![Screenshot 2025-07-20 072356.jpg](attachment:72b8635d-a3b8-4212-b7a7-6b2fd2e81368.jpg)"
   ]
  },
  {
   "cell_type": "markdown",
   "id": "a6ded471",
   "metadata": {
    "papermill": {
     "duration": 0.005528,
     "end_time": "2025-07-20T04:57:44.150230",
     "exception": false,
     "start_time": "2025-07-20T04:57:44.144702",
     "status": "completed"
    },
    "tags": []
   },
   "source": [
    "## Function to Calculating Manhattan Distance"
   ]
  },
  {
   "cell_type": "code",
   "execution_count": 10,
   "id": "b713d145",
   "metadata": {
    "execution": {
     "iopub.execute_input": "2025-07-20T04:57:44.163099Z",
     "iopub.status.busy": "2025-07-20T04:57:44.162757Z",
     "iopub.status.idle": "2025-07-20T04:57:44.168097Z",
     "shell.execute_reply": "2025-07-20T04:57:44.167039Z"
    },
    "papermill": {
     "duration": 0.013695,
     "end_time": "2025-07-20T04:57:44.169816",
     "exception": false,
     "start_time": "2025-07-20T04:57:44.156121",
     "status": "completed"
    },
    "tags": []
   },
   "outputs": [],
   "source": [
    "def manhattan_distance(p1,p2):\n",
    "    distance = 0\n",
    "\n",
    "    for i in range(len(p1)):\n",
    "        distance += abs(p1[i]-p2[i])\n",
    "\n",
    "\n",
    "    manhatten_distance = distance\n",
    "    \n",
    "    return manhatten_distance"
   ]
  },
  {
   "cell_type": "code",
   "execution_count": 11,
   "id": "ab93459f",
   "metadata": {
    "execution": {
     "iopub.execute_input": "2025-07-20T04:57:44.183318Z",
     "iopub.status.busy": "2025-07-20T04:57:44.182995Z",
     "iopub.status.idle": "2025-07-20T04:57:44.188938Z",
     "shell.execute_reply": "2025-07-20T04:57:44.188154Z"
    },
    "papermill": {
     "duration": 0.014274,
     "end_time": "2025-07-20T04:57:44.190486",
     "exception": false,
     "start_time": "2025-07-20T04:57:44.176212",
     "status": "completed"
    },
    "tags": []
   },
   "outputs": [
    {
     "data": {
      "text/plain": [
       "4"
      ]
     },
     "execution_count": 11,
     "metadata": {},
     "output_type": "execute_result"
    }
   ],
   "source": [
    "manhattan_distance(p1,p2)"
   ]
  },
  {
   "cell_type": "markdown",
   "id": "c0252f75",
   "metadata": {
    "execution": {
     "iopub.execute_input": "2025-07-20T04:42:27.995736Z",
     "iopub.status.busy": "2025-07-20T04:42:27.995072Z",
     "iopub.status.idle": "2025-07-20T04:42:28.000029Z",
     "shell.execute_reply": "2025-07-20T04:42:27.998781Z",
     "shell.execute_reply.started": "2025-07-20T04:42:27.995701Z"
    },
    "papermill": {
     "duration": 0.006163,
     "end_time": "2025-07-20T04:57:44.202859",
     "exception": false,
     "start_time": "2025-07-20T04:57:44.196696",
     "status": "completed"
    },
    "tags": []
   },
   "source": [
    "## calcuating distance between two points"
   ]
  },
  {
   "cell_type": "code",
   "execution_count": 12,
   "id": "b36a1796",
   "metadata": {
    "execution": {
     "iopub.execute_input": "2025-07-20T04:57:44.215923Z",
     "iopub.status.busy": "2025-07-20T04:57:44.215580Z",
     "iopub.status.idle": "2025-07-20T04:57:44.222595Z",
     "shell.execute_reply": "2025-07-20T04:57:44.221333Z"
    },
    "papermill": {
     "duration": 0.015638,
     "end_time": "2025-07-20T04:57:44.224310",
     "exception": false,
     "start_time": "2025-07-20T04:57:44.208672",
     "status": "completed"
    },
    "tags": []
   },
   "outputs": [
    {
     "name": "stdout",
     "output_type": "stream",
     "text": [
      "The Euclidean Distance is:  50.67543783727971\n",
      "The Manhattan Distance is:  102\n"
     ]
    }
   ],
   "source": [
    "print(\"The Euclidean Distance is: \",euclidean_distance((63,1,3,145,233,1,0,150,0,2,3,0,0,1),(37,1,2,130,250,0,1,187,0,3,5,0,0,2)))\n",
    "print(\"The Manhattan Distance is: \",manhattan_distance((63,1,3,145,233,1,0,150,0,2,3,0,0,1),(37,1,2,130,250,0,1,187,0,3,5,0,0,2)))"
   ]
  },
  {
   "cell_type": "markdown",
   "id": "ad0fe118",
   "metadata": {
    "papermill": {
     "duration": 0.00625,
     "end_time": "2025-07-20T04:57:44.236702",
     "exception": false,
     "start_time": "2025-07-20T04:57:44.230452",
     "status": "completed"
    },
    "tags": []
   },
   "source": [
    "# Thank You"
   ]
  },
  {
   "cell_type": "markdown",
   "id": "9fb7ab15",
   "metadata": {
    "papermill": {
     "duration": 0.006196,
     "end_time": "2025-07-20T04:57:44.248893",
     "exception": false,
     "start_time": "2025-07-20T04:57:44.242697",
     "status": "completed"
    },
    "tags": []
   },
   "source": [
    "# Made By: Ali Osama"
   ]
  }
 ],
 "metadata": {
  "kaggle": {
   "accelerator": "none",
   "dataSources": [],
   "dockerImageVersionId": 31089,
   "isGpuEnabled": false,
   "isInternetEnabled": true,
   "language": "python",
   "sourceType": "notebook"
  },
  "kernelspec": {
   "display_name": "Python 3",
   "language": "python",
   "name": "python3"
  },
  "language_info": {
   "codemirror_mode": {
    "name": "ipython",
    "version": 3
   },
   "file_extension": ".py",
   "mimetype": "text/x-python",
   "name": "python",
   "nbconvert_exporter": "python",
   "pygments_lexer": "ipython3",
   "version": "3.11.13"
  },
  "papermill": {
   "default_parameters": {},
   "duration": 8.88103,
   "end_time": "2025-07-20T04:57:44.776548",
   "environment_variables": {},
   "exception": null,
   "input_path": "__notebook__.ipynb",
   "output_path": "__notebook__.ipynb",
   "parameters": {},
   "start_time": "2025-07-20T04:57:35.895518",
   "version": "2.6.0"
  }
 },
 "nbformat": 4,
 "nbformat_minor": 5
}
