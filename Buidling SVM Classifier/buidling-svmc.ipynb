{
 "cells": [
  {
   "cell_type": "markdown",
   "id": "fe2e90d7",
   "metadata": {
    "papermill": {
     "duration": 0.008942,
     "end_time": "2025-07-18T20:16:50.569172",
     "exception": false,
     "start_time": "2025-07-18T20:16:50.560230",
     "status": "completed"
    },
    "tags": []
   },
   "source": [
    "## SVM Classifier"
   ]
  },
  {
   "cell_type": "markdown",
   "id": "4557e372",
   "metadata": {
    "_cell_guid": "b1076dfc-b9ad-4769-8c92-a6c4dae69d19",
    "_uuid": "8f2839f25d086af736a60e9eeb907d3b93b6e0e5",
    "papermill": {
     "duration": 0.007457,
     "end_time": "2025-07-18T20:16:50.584530",
     "exception": false,
     "start_time": "2025-07-18T20:16:50.577073",
     "status": "completed"
    },
    "tags": []
   },
   "source": [
    "\n",
    "\n",
    "\n",
    " Equation of the Hyperplane:\n",
    "\n",
    " #### y = wx - b\n",
    "\n"
   ]
  },
  {
   "cell_type": "markdown",
   "id": "db5feb27",
   "metadata": {
    "papermill": {
     "duration": 0.008172,
     "end_time": "2025-07-18T20:16:50.600799",
     "exception": false,
     "start_time": "2025-07-18T20:16:50.592627",
     "status": "completed"
    },
    "tags": []
   },
   "source": [
    "### Gradient Descent:-\n",
    "    is an optimization algorism used for minimizing the\n",
    "    loss function in various machine learning algorisms.\n",
    "    it's used for updating the parameters of learning\n",
    "    model."
   ]
  },
  {
   "attachments": {
    "a2a9c240-bc3f-47d5-b602-afd84cd77d77.jpg": {
     "image/jpeg": "[encoded data removed]"
    }
   },
   "cell_type": "markdown",
   "id": "2e87bc31",
   "metadata": {
    "papermill": {
     "duration": 0.008268,
     "end_time": "2025-07-18T20:16:50.617149",
     "exception": false,
     "start_time": "2025-07-18T20:16:50.608881",
     "status": "completed"
    },
    "tags": []
   },
   "source": [
    "![Screenshot 2025-07-17 213133.jpg](attachment:a2a9c240-bc3f-47d5-b602-afd84cd77d77.jpg)"
   ]
  },
  {
   "cell_type": "markdown",
   "id": "c779d164",
   "metadata": {
    "papermill": {
     "duration": 0.008128,
     "end_time": "2025-07-18T20:16:50.634453",
     "exception": false,
     "start_time": "2025-07-18T20:16:50.626325",
     "status": "completed"
    },
    "tags": []
   },
   "source": [
    "#### w = w - a * dw\n",
    "#### b = b - a * db"
   ]
  },
  {
   "cell_type": "markdown",
   "id": "83e4e7dd",
   "metadata": {
    "papermill": {
     "duration": 0.00735,
     "end_time": "2025-07-18T20:16:50.649475",
     "exception": false,
     "start_time": "2025-07-18T20:16:50.642125",
     "status": "completed"
    },
    "tags": []
   },
   "source": [
    "### Learning Rate:-\n",
    "    is tuning parameter in an optimization algorism that\n",
    "    determines the step size at each iteration while\n",
    "    moving toward a minimum of a loss function. "
   ]
  },
  {
   "cell_type": "markdown",
   "id": "e252e1c6",
   "metadata": {
    "papermill": {
     "duration": 0.007479,
     "end_time": "2025-07-18T20:16:50.664481",
     "exception": false,
     "start_time": "2025-07-18T20:16:50.657002",
     "status": "completed"
    },
    "tags": []
   },
   "source": [
    "## Buliding Suppport Vector Machine Classifier"
   ]
  },
  {
   "cell_type": "code",
   "execution_count": 1,
   "id": "3c6b9da6",
   "metadata": {
    "execution": {
     "iopub.execute_input": "2025-07-18T20:16:50.681289Z",
     "iopub.status.busy": "2025-07-18T20:16:50.680927Z",
     "iopub.status.idle": "2025-07-18T20:16:50.692413Z",
     "shell.execute_reply": "2025-07-18T20:16:50.691602Z"
    },
    "papermill": {
     "duration": 0.021654,
     "end_time": "2025-07-18T20:16:50.694034",
     "exception": false,
     "start_time": "2025-07-18T20:16:50.672380",
     "status": "completed"
    },
    "tags": []
   },
   "outputs": [],
   "source": [
    "## import dependencies\n",
    "import numpy as np\n",
    "\n",
    "class SVMC:\n",
    "    def __init__(self, learning_rate, no_of_iterations, lambda_parameter):\n",
    "        \n",
    "        # initating the parameters (learning rate,number of iterations)\n",
    "        self.learning_rate = learning_rate\n",
    "        self.no_of_iterations = no_of_iterations\n",
    "        self.lambda_parameter = lambda_parameter\n",
    "    def fit(self,X,Y):\n",
    "        \n",
    "        #number of training examples and number of features\n",
    "        self.m,self.n = X.shape #number of rows and columns\n",
    "\n",
    "        #initating the weight and bias\n",
    "        self.w = np.zeros(self.n)\n",
    "        self.b = 0\n",
    "        self.X = X\n",
    "        self.Y = Y\n",
    "\n",
    "        for i in range(self.no_of_iterations):\n",
    "            self.update_width()\n",
    "    def update_width(self):\n",
    "\n",
    "        #label encoding\n",
    "        Y_label = np.where(self.Y <= 0 ,-1,1)\n",
    "\n",
    "        # Gradients(dw and db)\n",
    "        for index,x_i in enumerate(self.X): # display evey item in list and itis index \n",
    "            condition = Y_label[index] * (np.dot(x_i,self.w) - self.b) >= 1 \n",
    "\n",
    "        if condition == True :\n",
    "            dw = 2 * self.lambda_parameter * self.w\n",
    "            db = 0\n",
    "        else : \n",
    "            dw = 2 * self.lambda_parameter -  np.dot(x_i, Y_label[index])\n",
    "            db = Y_label[index]\n",
    "            \n",
    "\n",
    "            \n",
    "        #updating the wights\n",
    "        self.w = self.w - self.learning_rate * dw\n",
    "        self.b = self.b - self.learning_rate * db\n",
    "        \n",
    "    def predict(self,X):\n",
    "        output = np.dot(X, self.w) - self.b\n",
    "        predicted_label = np.sign(output)\n",
    "        y_hat = np.where(predicted_label <= -1 ,0 ,1)\n",
    "        return y_hat"
   ]
  },
  {
   "cell_type": "markdown",
   "id": "0cb0cdd5",
   "metadata": {
    "execution": {
     "iopub.execute_input": "2025-07-18T12:49:11.513889Z",
     "iopub.status.busy": "2025-07-18T12:49:11.513015Z",
     "iopub.status.idle": "2025-07-18T12:49:11.517546Z",
     "shell.execute_reply": "2025-07-18T12:49:11.516690Z",
     "shell.execute_reply.started": "2025-07-18T12:49:11.513860Z"
    },
    "papermill": {
     "duration": 0.007315,
     "end_time": "2025-07-18T20:16:50.709308",
     "exception": false,
     "start_time": "2025-07-18T20:16:50.701993",
     "status": "completed"
    },
    "tags": []
   },
   "source": [
    "## Using logistic regrssion¶\n"
   ]
  },
  {
   "cell_type": "markdown",
   "id": "89984e3e",
   "metadata": {
    "execution": {
     "iopub.execute_input": "2025-07-18T12:49:32.518532Z",
     "iopub.status.busy": "2025-07-18T12:49:32.517767Z",
     "iopub.status.idle": "2025-07-18T12:49:32.521951Z",
     "shell.execute_reply": "2025-07-18T12:49:32.521037Z",
     "shell.execute_reply.started": "2025-07-18T12:49:32.518504Z"
    },
    "papermill": {
     "duration": 0.007339,
     "end_time": "2025-07-18T20:16:50.724503",
     "exception": false,
     "start_time": "2025-07-18T20:16:50.717164",
     "status": "completed"
    },
    "tags": []
   },
   "source": [
    "### Importing The Dependencies\n"
   ]
  },
  {
   "cell_type": "code",
   "execution_count": 2,
   "id": "677b8fab",
   "metadata": {
    "execution": {
     "iopub.execute_input": "2025-07-18T20:16:50.742437Z",
     "iopub.status.busy": "2025-07-18T20:16:50.741246Z",
     "iopub.status.idle": "2025-07-18T20:16:55.089284Z",
     "shell.execute_reply": "2025-07-18T20:16:55.088128Z"
    },
    "papermill": {
     "duration": 4.359098,
     "end_time": "2025-07-18T20:16:55.091252",
     "exception": false,
     "start_time": "2025-07-18T20:16:50.732154",
     "status": "completed"
    },
    "tags": []
   },
   "outputs": [],
   "source": [
    "import pandas as pd\n",
    "from sklearn.preprocessing import StandardScaler\n",
    "from sklearn.model_selection import train_test_split\n",
    "from sklearn.metrics import accuracy_score\n",
    "import matplotlib.pyplot as plt\n",
    "import seaborn as sns\n",
    "import warnings\n",
    "warnings.filterwarnings(action=\"ignore\")"
   ]
  },
  {
   "cell_type": "markdown",
   "id": "12d04c7f",
   "metadata": {
    "execution": {
     "iopub.execute_input": "2025-07-18T12:50:01.963812Z",
     "iopub.status.busy": "2025-07-18T12:50:01.962963Z",
     "iopub.status.idle": "2025-07-18T12:50:01.967462Z",
     "shell.execute_reply": "2025-07-18T12:50:01.966531Z",
     "shell.execute_reply.started": "2025-07-18T12:50:01.963784Z"
    },
    "papermill": {
     "duration": 0.007689,
     "end_time": "2025-07-18T20:16:55.107289",
     "exception": false,
     "start_time": "2025-07-18T20:16:55.099600",
     "status": "completed"
    },
    "tags": []
   },
   "source": [
    "### Read the data"
   ]
  },
  {
   "cell_type": "code",
   "execution_count": 3,
   "id": "2190ba8d",
   "metadata": {
    "execution": {
     "iopub.execute_input": "2025-07-18T20:16:55.124933Z",
     "iopub.status.busy": "2025-07-18T20:16:55.124513Z",
     "iopub.status.idle": "2025-07-18T20:16:55.149719Z",
     "shell.execute_reply": "2025-07-18T20:16:55.148727Z"
    },
    "papermill": {
     "duration": 0.035925,
     "end_time": "2025-07-18T20:16:55.151339",
     "exception": false,
     "start_time": "2025-07-18T20:16:55.115414",
     "status": "completed"
    },
    "tags": []
   },
   "outputs": [],
   "source": [
    "df = pd.read_csv(\"/kaggle/input/diabetes-dataset/diabetes.csv\")\n"
   ]
  },
  {
   "cell_type": "markdown",
   "id": "f4eb4c81",
   "metadata": {
    "execution": {
     "iopub.execute_input": "2025-07-18T12:50:26.184764Z",
     "iopub.status.busy": "2025-07-18T12:50:26.184465Z",
     "iopub.status.idle": "2025-07-18T12:50:26.189132Z",
     "shell.execute_reply": "2025-07-18T12:50:26.188077Z",
     "shell.execute_reply.started": "2025-07-18T12:50:26.184741Z"
    },
    "papermill": {
     "duration": 0.007974,
     "end_time": "2025-07-18T20:16:55.167595",
     "exception": false,
     "start_time": "2025-07-18T20:16:55.159621",
     "status": "completed"
    },
    "tags": []
   },
   "source": [
    "### Display first 5 rows"
   ]
  },
  {
   "cell_type": "code",
   "execution_count": 4,
   "id": "8bc19040",
   "metadata": {
    "execution": {
     "iopub.execute_input": "2025-07-18T20:16:55.184549Z",
     "iopub.status.busy": "2025-07-18T20:16:55.184234Z",
     "iopub.status.idle": "2025-07-18T20:16:55.212243Z",
     "shell.execute_reply": "2025-07-18T20:16:55.211342Z"
    },
    "papermill": {
     "duration": 0.038694,
     "end_time": "2025-07-18T20:16:55.214058",
     "exception": false,
     "start_time": "2025-07-18T20:16:55.175364",
     "status": "completed"
    },
    "tags": []
   },
   "outputs": [
    {
     "data": {
      "text/html": [
       "<div>\n",
       "<style scoped>\n",
       "    .dataframe tbody tr th:only-of-type {\n",
       "        vertical-align: middle;\n",
       "    }\n",
       "\n",
       "    .dataframe tbody tr th {\n",
       "        vertical-align: top;\n",
       "    }\n",
       "\n",
       "    .dataframe thead th {\n",
       "        text-align: right;\n",
       "    }\n",
       "</style>\n",
       "<table border=\"1\" class=\"dataframe\">\n",
       "  <thead>\n",
       "    <tr style=\"text-align: right;\">\n",
       "      <th></th>\n",
       "      <th>Pregnancies</th>\n",
       "      <th>Glucose</th>\n",
       "      <th>BloodPressure</th>\n",
       "      <th>SkinThickness</th>\n",
       "      <th>Insulin</th>\n",
       "      <th>BMI</th>\n",
       "      <th>DiabetesPedigreeFunction</th>\n",
       "      <th>Age</th>\n",
       "      <th>Outcome</th>\n",
       "    </tr>\n",
       "  </thead>\n",
       "  <tbody>\n",
       "    <tr>\n",
       "      <th>0</th>\n",
       "      <td>6</td>\n",
       "      <td>148</td>\n",
       "      <td>72</td>\n",
       "      <td>35</td>\n",
       "      <td>0</td>\n",
       "      <td>33.6</td>\n",
       "      <td>0.627</td>\n",
       "      <td>50</td>\n",
       "      <td>1</td>\n",
       "    </tr>\n",
       "    <tr>\n",
       "      <th>1</th>\n",
       "      <td>1</td>\n",
       "      <td>85</td>\n",
       "      <td>66</td>\n",
       "      <td>29</td>\n",
       "      <td>0</td>\n",
       "      <td>26.6</td>\n",
       "      <td>0.351</td>\n",
       "      <td>31</td>\n",
       "      <td>0</td>\n",
       "    </tr>\n",
       "    <tr>\n",
       "      <th>2</th>\n",
       "      <td>8</td>\n",
       "      <td>183</td>\n",
       "      <td>64</td>\n",
       "      <td>0</td>\n",
       "      <td>0</td>\n",
       "      <td>23.3</td>\n",
       "      <td>0.672</td>\n",
       "      <td>32</td>\n",
       "      <td>1</td>\n",
       "    </tr>\n",
       "    <tr>\n",
       "      <th>3</th>\n",
       "      <td>1</td>\n",
       "      <td>89</td>\n",
       "      <td>66</td>\n",
       "      <td>23</td>\n",
       "      <td>94</td>\n",
       "      <td>28.1</td>\n",
       "      <td>0.167</td>\n",
       "      <td>21</td>\n",
       "      <td>0</td>\n",
       "    </tr>\n",
       "    <tr>\n",
       "      <th>4</th>\n",
       "      <td>0</td>\n",
       "      <td>137</td>\n",
       "      <td>40</td>\n",
       "      <td>35</td>\n",
       "      <td>168</td>\n",
       "      <td>43.1</td>\n",
       "      <td>2.288</td>\n",
       "      <td>33</td>\n",
       "      <td>1</td>\n",
       "    </tr>\n",
       "  </tbody>\n",
       "</table>\n",
       "</div>"
      ],
      "text/plain": [
       "   Pregnancies  Glucose  BloodPressure  SkinThickness  Insulin   BMI  \\\n",
       "0            6      148             72             35        0  33.6   \n",
       "1            1       85             66             29        0  26.6   \n",
       "2            8      183             64              0        0  23.3   \n",
       "3            1       89             66             23       94  28.1   \n",
       "4            0      137             40             35      168  43.1   \n",
       "\n",
       "   DiabetesPedigreeFunction  Age  Outcome  \n",
       "0                     0.627   50        1  \n",
       "1                     0.351   31        0  \n",
       "2                     0.672   32        1  \n",
       "3                     0.167   21        0  \n",
       "4                     2.288   33        1  "
      ]
     },
     "execution_count": 4,
     "metadata": {},
     "output_type": "execute_result"
    }
   ],
   "source": [
    "df.head()"
   ]
  },
  {
   "cell_type": "markdown",
   "id": "a35f6c18",
   "metadata": {
    "execution": {
     "iopub.execute_input": "2025-07-18T12:50:57.466508Z",
     "iopub.status.busy": "2025-07-18T12:50:57.466180Z",
     "iopub.status.idle": "2025-07-18T12:50:57.470480Z",
     "shell.execute_reply": "2025-07-18T12:50:57.469588Z",
     "shell.execute_reply.started": "2025-07-18T12:50:57.466484Z"
    },
    "papermill": {
     "duration": 0.007697,
     "end_time": "2025-07-18T20:16:55.288924",
     "exception": false,
     "start_time": "2025-07-18T20:16:55.281227",
     "status": "completed"
    },
    "tags": []
   },
   "source": [
    "### Display last 5 rows"
   ]
  },
  {
   "cell_type": "code",
   "execution_count": 5,
   "id": "40c9125c",
   "metadata": {
    "execution": {
     "iopub.execute_input": "2025-07-18T20:16:55.307954Z",
     "iopub.status.busy": "2025-07-18T20:16:55.307572Z",
     "iopub.status.idle": "2025-07-18T20:16:55.322619Z",
     "shell.execute_reply": "2025-07-18T20:16:55.321639Z"
    },
    "papermill": {
     "duration": 0.026246,
     "end_time": "2025-07-18T20:16:55.324311",
     "exception": false,
     "start_time": "2025-07-18T20:16:55.298065",
     "status": "completed"
    },
    "tags": []
   },
   "outputs": [
    {
     "data": {
      "text/html": [
       "<div>\n",
       "<style scoped>\n",
       "    .dataframe tbody tr th:only-of-type {\n",
       "        vertical-align: middle;\n",
       "    }\n",
       "\n",
       "    .dataframe tbody tr th {\n",
       "        vertical-align: top;\n",
       "    }\n",
       "\n",
       "    .dataframe thead th {\n",
       "        text-align: right;\n",
       "    }\n",
       "</style>\n",
       "<table border=\"1\" class=\"dataframe\">\n",
       "  <thead>\n",
       "    <tr style=\"text-align: right;\">\n",
       "      <th></th>\n",
       "      <th>Pregnancies</th>\n",
       "      <th>Glucose</th>\n",
       "      <th>BloodPressure</th>\n",
       "      <th>SkinThickness</th>\n",
       "      <th>Insulin</th>\n",
       "      <th>BMI</th>\n",
       "      <th>DiabetesPedigreeFunction</th>\n",
       "      <th>Age</th>\n",
       "      <th>Outcome</th>\n",
       "    </tr>\n",
       "  </thead>\n",
       "  <tbody>\n",
       "    <tr>\n",
       "      <th>763</th>\n",
       "      <td>10</td>\n",
       "      <td>101</td>\n",
       "      <td>76</td>\n",
       "      <td>48</td>\n",
       "      <td>180</td>\n",
       "      <td>32.9</td>\n",
       "      <td>0.171</td>\n",
       "      <td>63</td>\n",
       "      <td>0</td>\n",
       "    </tr>\n",
       "    <tr>\n",
       "      <th>764</th>\n",
       "      <td>2</td>\n",
       "      <td>122</td>\n",
       "      <td>70</td>\n",
       "      <td>27</td>\n",
       "      <td>0</td>\n",
       "      <td>36.8</td>\n",
       "      <td>0.340</td>\n",
       "      <td>27</td>\n",
       "      <td>0</td>\n",
       "    </tr>\n",
       "    <tr>\n",
       "      <th>765</th>\n",
       "      <td>5</td>\n",
       "      <td>121</td>\n",
       "      <td>72</td>\n",
       "      <td>23</td>\n",
       "      <td>112</td>\n",
       "      <td>26.2</td>\n",
       "      <td>0.245</td>\n",
       "      <td>30</td>\n",
       "      <td>0</td>\n",
       "    </tr>\n",
       "    <tr>\n",
       "      <th>766</th>\n",
       "      <td>1</td>\n",
       "      <td>126</td>\n",
       "      <td>60</td>\n",
       "      <td>0</td>\n",
       "      <td>0</td>\n",
       "      <td>30.1</td>\n",
       "      <td>0.349</td>\n",
       "      <td>47</td>\n",
       "      <td>1</td>\n",
       "    </tr>\n",
       "    <tr>\n",
       "      <th>767</th>\n",
       "      <td>1</td>\n",
       "      <td>93</td>\n",
       "      <td>70</td>\n",
       "      <td>31</td>\n",
       "      <td>0</td>\n",
       "      <td>30.4</td>\n",
       "      <td>0.315</td>\n",
       "      <td>23</td>\n",
       "      <td>0</td>\n",
       "    </tr>\n",
       "  </tbody>\n",
       "</table>\n",
       "</div>"
      ],
      "text/plain": [
       "     Pregnancies  Glucose  BloodPressure  SkinThickness  Insulin   BMI  \\\n",
       "763           10      101             76             48      180  32.9   \n",
       "764            2      122             70             27        0  36.8   \n",
       "765            5      121             72             23      112  26.2   \n",
       "766            1      126             60              0        0  30.1   \n",
       "767            1       93             70             31        0  30.4   \n",
       "\n",
       "     DiabetesPedigreeFunction  Age  Outcome  \n",
       "763                     0.171   63        0  \n",
       "764                     0.340   27        0  \n",
       "765                     0.245   30        0  \n",
       "766                     0.349   47        1  \n",
       "767                     0.315   23        0  "
      ]
     },
     "execution_count": 5,
     "metadata": {},
     "output_type": "execute_result"
    }
   ],
   "source": [
    "df.tail()"
   ]
  },
  {
   "cell_type": "markdown",
   "id": "cd007aa3",
   "metadata": {
    "papermill": {
     "duration": 0.008961,
     "end_time": "2025-07-18T20:16:55.341862",
     "exception": false,
     "start_time": "2025-07-18T20:16:55.332901",
     "status": "completed"
    },
    "tags": []
   },
   "source": [
    "### Display random 5 rows"
   ]
  },
  {
   "cell_type": "code",
   "execution_count": 6,
   "id": "441aee55",
   "metadata": {
    "execution": {
     "iopub.execute_input": "2025-07-18T20:16:55.360703Z",
     "iopub.status.busy": "2025-07-18T20:16:55.359867Z",
     "iopub.status.idle": "2025-07-18T20:16:55.381385Z",
     "shell.execute_reply": "2025-07-18T20:16:55.380344Z"
    },
    "papermill": {
     "duration": 0.033281,
     "end_time": "2025-07-18T20:16:55.383329",
     "exception": false,
     "start_time": "2025-07-18T20:16:55.350048",
     "status": "completed"
    },
    "tags": []
   },
   "outputs": [
    {
     "data": {
      "text/html": [
       "<div>\n",
       "<style scoped>\n",
       "    .dataframe tbody tr th:only-of-type {\n",
       "        vertical-align: middle;\n",
       "    }\n",
       "\n",
       "    .dataframe tbody tr th {\n",
       "        vertical-align: top;\n",
       "    }\n",
       "\n",
       "    .dataframe thead th {\n",
       "        text-align: right;\n",
       "    }\n",
       "</style>\n",
       "<table border=\"1\" class=\"dataframe\">\n",
       "  <thead>\n",
       "    <tr style=\"text-align: right;\">\n",
       "      <th></th>\n",
       "      <th>Pregnancies</th>\n",
       "      <th>Glucose</th>\n",
       "      <th>BloodPressure</th>\n",
       "      <th>SkinThickness</th>\n",
       "      <th>Insulin</th>\n",
       "      <th>BMI</th>\n",
       "      <th>DiabetesPedigreeFunction</th>\n",
       "      <th>Age</th>\n",
       "      <th>Outcome</th>\n",
       "    </tr>\n",
       "  </thead>\n",
       "  <tbody>\n",
       "    <tr>\n",
       "      <th>745</th>\n",
       "      <td>12</td>\n",
       "      <td>100</td>\n",
       "      <td>84</td>\n",
       "      <td>33</td>\n",
       "      <td>105</td>\n",
       "      <td>30.0</td>\n",
       "      <td>0.488</td>\n",
       "      <td>46</td>\n",
       "      <td>0</td>\n",
       "    </tr>\n",
       "    <tr>\n",
       "      <th>273</th>\n",
       "      <td>1</td>\n",
       "      <td>71</td>\n",
       "      <td>78</td>\n",
       "      <td>50</td>\n",
       "      <td>45</td>\n",
       "      <td>33.2</td>\n",
       "      <td>0.422</td>\n",
       "      <td>21</td>\n",
       "      <td>0</td>\n",
       "    </tr>\n",
       "    <tr>\n",
       "      <th>383</th>\n",
       "      <td>1</td>\n",
       "      <td>90</td>\n",
       "      <td>62</td>\n",
       "      <td>18</td>\n",
       "      <td>59</td>\n",
       "      <td>25.1</td>\n",
       "      <td>1.268</td>\n",
       "      <td>25</td>\n",
       "      <td>0</td>\n",
       "    </tr>\n",
       "    <tr>\n",
       "      <th>503</th>\n",
       "      <td>7</td>\n",
       "      <td>94</td>\n",
       "      <td>64</td>\n",
       "      <td>25</td>\n",
       "      <td>79</td>\n",
       "      <td>33.3</td>\n",
       "      <td>0.738</td>\n",
       "      <td>41</td>\n",
       "      <td>0</td>\n",
       "    </tr>\n",
       "    <tr>\n",
       "      <th>164</th>\n",
       "      <td>0</td>\n",
       "      <td>131</td>\n",
       "      <td>88</td>\n",
       "      <td>0</td>\n",
       "      <td>0</td>\n",
       "      <td>31.6</td>\n",
       "      <td>0.743</td>\n",
       "      <td>32</td>\n",
       "      <td>1</td>\n",
       "    </tr>\n",
       "  </tbody>\n",
       "</table>\n",
       "</div>"
      ],
      "text/plain": [
       "     Pregnancies  Glucose  BloodPressure  SkinThickness  Insulin   BMI  \\\n",
       "745           12      100             84             33      105  30.0   \n",
       "273            1       71             78             50       45  33.2   \n",
       "383            1       90             62             18       59  25.1   \n",
       "503            7       94             64             25       79  33.3   \n",
       "164            0      131             88              0        0  31.6   \n",
       "\n",
       "     DiabetesPedigreeFunction  Age  Outcome  \n",
       "745                     0.488   46        0  \n",
       "273                     0.422   21        0  \n",
       "383                     1.268   25        0  \n",
       "503                     0.738   41        0  \n",
       "164                     0.743   32        1  "
      ]
     },
     "execution_count": 6,
     "metadata": {},
     "output_type": "execute_result"
    }
   ],
   "source": [
    "df.sample(5)"
   ]
  },
  {
   "cell_type": "markdown",
   "id": "67f6893c",
   "metadata": {
    "papermill": {
     "duration": 0.008964,
     "end_time": "2025-07-18T20:16:55.402115",
     "exception": false,
     "start_time": "2025-07-18T20:16:55.393151",
     "status": "completed"
    },
    "tags": []
   },
   "source": [
    "### Display number of columns and rows"
   ]
  },
  {
   "cell_type": "code",
   "execution_count": 7,
   "id": "70c9fa2a",
   "metadata": {
    "execution": {
     "iopub.execute_input": "2025-07-18T20:16:55.421343Z",
     "iopub.status.busy": "2025-07-18T20:16:55.421059Z",
     "iopub.status.idle": "2025-07-18T20:16:55.426975Z",
     "shell.execute_reply": "2025-07-18T20:16:55.425678Z"
    },
    "papermill": {
     "duration": 0.01685,
     "end_time": "2025-07-18T20:16:55.428680",
     "exception": false,
     "start_time": "2025-07-18T20:16:55.411830",
     "status": "completed"
    },
    "tags": []
   },
   "outputs": [
    {
     "name": "stdout",
     "output_type": "stream",
     "text": [
      "The Shape of DataFrame is:  (768, 9)\n"
     ]
    }
   ],
   "source": [
    "print(\"The Shape of DataFrame is: \",df.shape)"
   ]
  },
  {
   "cell_type": "markdown",
   "id": "5f6bbe58",
   "metadata": {
    "papermill": {
     "duration": 0.008624,
     "end_time": "2025-07-18T20:16:55.446473",
     "exception": false,
     "start_time": "2025-07-18T20:16:55.437849",
     "status": "completed"
    },
    "tags": []
   },
   "source": [
    "### some statistical measures"
   ]
  },
  {
   "cell_type": "code",
   "execution_count": 8,
   "id": "a2fed669",
   "metadata": {
    "execution": {
     "iopub.execute_input": "2025-07-18T20:16:55.468426Z",
     "iopub.status.busy": "2025-07-18T20:16:55.467870Z",
     "iopub.status.idle": "2025-07-18T20:16:55.503068Z",
     "shell.execute_reply": "2025-07-18T20:16:55.502194Z"
    },
    "papermill": {
     "duration": 0.047822,
     "end_time": "2025-07-18T20:16:55.504607",
     "exception": false,
     "start_time": "2025-07-18T20:16:55.456785",
     "status": "completed"
    },
    "tags": []
   },
   "outputs": [
    {
     "data": {
      "text/html": [
       "<div>\n",
       "<style scoped>\n",
       "    .dataframe tbody tr th:only-of-type {\n",
       "        vertical-align: middle;\n",
       "    }\n",
       "\n",
       "    .dataframe tbody tr th {\n",
       "        vertical-align: top;\n",
       "    }\n",
       "\n",
       "    .dataframe thead th {\n",
       "        text-align: right;\n",
       "    }\n",
       "</style>\n",
       "<table border=\"1\" class=\"dataframe\">\n",
       "  <thead>\n",
       "    <tr style=\"text-align: right;\">\n",
       "      <th></th>\n",
       "      <th>Pregnancies</th>\n",
       "      <th>Glucose</th>\n",
       "      <th>BloodPressure</th>\n",
       "      <th>SkinThickness</th>\n",
       "      <th>Insulin</th>\n",
       "      <th>BMI</th>\n",
       "      <th>DiabetesPedigreeFunction</th>\n",
       "      <th>Age</th>\n",
       "      <th>Outcome</th>\n",
       "    </tr>\n",
       "  </thead>\n",
       "  <tbody>\n",
       "    <tr>\n",
       "      <th>count</th>\n",
       "      <td>768.000000</td>\n",
       "      <td>768.000000</td>\n",
       "      <td>768.000000</td>\n",
       "      <td>768.000000</td>\n",
       "      <td>768.000000</td>\n",
       "      <td>768.000000</td>\n",
       "      <td>768.000000</td>\n",
       "      <td>768.000000</td>\n",
       "      <td>768.000000</td>\n",
       "    </tr>\n",
       "    <tr>\n",
       "      <th>mean</th>\n",
       "      <td>3.845052</td>\n",
       "      <td>120.894531</td>\n",
       "      <td>69.105469</td>\n",
       "      <td>20.536458</td>\n",
       "      <td>79.799479</td>\n",
       "      <td>31.992578</td>\n",
       "      <td>0.471876</td>\n",
       "      <td>33.240885</td>\n",
       "      <td>0.348958</td>\n",
       "    </tr>\n",
       "    <tr>\n",
       "      <th>std</th>\n",
       "      <td>3.369578</td>\n",
       "      <td>31.972618</td>\n",
       "      <td>19.355807</td>\n",
       "      <td>15.952218</td>\n",
       "      <td>115.244002</td>\n",
       "      <td>7.884160</td>\n",
       "      <td>0.331329</td>\n",
       "      <td>11.760232</td>\n",
       "      <td>0.476951</td>\n",
       "    </tr>\n",
       "    <tr>\n",
       "      <th>min</th>\n",
       "      <td>0.000000</td>\n",
       "      <td>0.000000</td>\n",
       "      <td>0.000000</td>\n",
       "      <td>0.000000</td>\n",
       "      <td>0.000000</td>\n",
       "      <td>0.000000</td>\n",
       "      <td>0.078000</td>\n",
       "      <td>21.000000</td>\n",
       "      <td>0.000000</td>\n",
       "    </tr>\n",
       "    <tr>\n",
       "      <th>25%</th>\n",
       "      <td>1.000000</td>\n",
       "      <td>99.000000</td>\n",
       "      <td>62.000000</td>\n",
       "      <td>0.000000</td>\n",
       "      <td>0.000000</td>\n",
       "      <td>27.300000</td>\n",
       "      <td>0.243750</td>\n",
       "      <td>24.000000</td>\n",
       "      <td>0.000000</td>\n",
       "    </tr>\n",
       "    <tr>\n",
       "      <th>50%</th>\n",
       "      <td>3.000000</td>\n",
       "      <td>117.000000</td>\n",
       "      <td>72.000000</td>\n",
       "      <td>23.000000</td>\n",
       "      <td>30.500000</td>\n",
       "      <td>32.000000</td>\n",
       "      <td>0.372500</td>\n",
       "      <td>29.000000</td>\n",
       "      <td>0.000000</td>\n",
       "    </tr>\n",
       "    <tr>\n",
       "      <th>75%</th>\n",
       "      <td>6.000000</td>\n",
       "      <td>140.250000</td>\n",
       "      <td>80.000000</td>\n",
       "      <td>32.000000</td>\n",
       "      <td>127.250000</td>\n",
       "      <td>36.600000</td>\n",
       "      <td>0.626250</td>\n",
       "      <td>41.000000</td>\n",
       "      <td>1.000000</td>\n",
       "    </tr>\n",
       "    <tr>\n",
       "      <th>max</th>\n",
       "      <td>17.000000</td>\n",
       "      <td>199.000000</td>\n",
       "      <td>122.000000</td>\n",
       "      <td>99.000000</td>\n",
       "      <td>846.000000</td>\n",
       "      <td>67.100000</td>\n",
       "      <td>2.420000</td>\n",
       "      <td>81.000000</td>\n",
       "      <td>1.000000</td>\n",
       "    </tr>\n",
       "  </tbody>\n",
       "</table>\n",
       "</div>"
      ],
      "text/plain": [
       "       Pregnancies     Glucose  BloodPressure  SkinThickness     Insulin  \\\n",
       "count   768.000000  768.000000     768.000000     768.000000  768.000000   \n",
       "mean      3.845052  120.894531      69.105469      20.536458   79.799479   \n",
       "std       3.369578   31.972618      19.355807      15.952218  115.244002   \n",
       "min       0.000000    0.000000       0.000000       0.000000    0.000000   \n",
       "25%       1.000000   99.000000      62.000000       0.000000    0.000000   \n",
       "50%       3.000000  117.000000      72.000000      23.000000   30.500000   \n",
       "75%       6.000000  140.250000      80.000000      32.000000  127.250000   \n",
       "max      17.000000  199.000000     122.000000      99.000000  846.000000   \n",
       "\n",
       "              BMI  DiabetesPedigreeFunction         Age     Outcome  \n",
       "count  768.000000                768.000000  768.000000  768.000000  \n",
       "mean    31.992578                  0.471876   33.240885    0.348958  \n",
       "std      7.884160                  0.331329   11.760232    0.476951  \n",
       "min      0.000000                  0.078000   21.000000    0.000000  \n",
       "25%     27.300000                  0.243750   24.000000    0.000000  \n",
       "50%     32.000000                  0.372500   29.000000    0.000000  \n",
       "75%     36.600000                  0.626250   41.000000    1.000000  \n",
       "max     67.100000                  2.420000   81.000000    1.000000  "
      ]
     },
     "execution_count": 8,
     "metadata": {},
     "output_type": "execute_result"
    }
   ],
   "source": [
    "df.describe()"
   ]
  },
  {
   "cell_type": "code",
   "execution_count": 9,
   "id": "d686bfef",
   "metadata": {
    "execution": {
     "iopub.execute_input": "2025-07-18T20:16:55.524698Z",
     "iopub.status.busy": "2025-07-18T20:16:55.523722Z",
     "iopub.status.idle": "2025-07-18T20:16:55.543874Z",
     "shell.execute_reply": "2025-07-18T20:16:55.543099Z"
    },
    "papermill": {
     "duration": 0.031731,
     "end_time": "2025-07-18T20:16:55.545247",
     "exception": false,
     "start_time": "2025-07-18T20:16:55.513516",
     "status": "completed"
    },
    "tags": []
   },
   "outputs": [
    {
     "data": {
      "text/html": [
       "<div>\n",
       "<style scoped>\n",
       "    .dataframe tbody tr th:only-of-type {\n",
       "        vertical-align: middle;\n",
       "    }\n",
       "\n",
       "    .dataframe tbody tr th {\n",
       "        vertical-align: top;\n",
       "    }\n",
       "\n",
       "    .dataframe thead th {\n",
       "        text-align: right;\n",
       "    }\n",
       "</style>\n",
       "<table border=\"1\" class=\"dataframe\">\n",
       "  <thead>\n",
       "    <tr style=\"text-align: right;\">\n",
       "      <th></th>\n",
       "      <th>Pregnancies</th>\n",
       "      <th>Glucose</th>\n",
       "      <th>BloodPressure</th>\n",
       "      <th>SkinThickness</th>\n",
       "      <th>Insulin</th>\n",
       "      <th>BMI</th>\n",
       "      <th>DiabetesPedigreeFunction</th>\n",
       "      <th>Age</th>\n",
       "    </tr>\n",
       "    <tr>\n",
       "      <th>Outcome</th>\n",
       "      <th></th>\n",
       "      <th></th>\n",
       "      <th></th>\n",
       "      <th></th>\n",
       "      <th></th>\n",
       "      <th></th>\n",
       "      <th></th>\n",
       "      <th></th>\n",
       "    </tr>\n",
       "  </thead>\n",
       "  <tbody>\n",
       "    <tr>\n",
       "      <th>0</th>\n",
       "      <td>3.298000</td>\n",
       "      <td>109.980000</td>\n",
       "      <td>68.184000</td>\n",
       "      <td>19.664000</td>\n",
       "      <td>68.792000</td>\n",
       "      <td>30.304200</td>\n",
       "      <td>0.429734</td>\n",
       "      <td>31.190000</td>\n",
       "    </tr>\n",
       "    <tr>\n",
       "      <th>1</th>\n",
       "      <td>4.865672</td>\n",
       "      <td>141.257463</td>\n",
       "      <td>70.824627</td>\n",
       "      <td>22.164179</td>\n",
       "      <td>100.335821</td>\n",
       "      <td>35.142537</td>\n",
       "      <td>0.550500</td>\n",
       "      <td>37.067164</td>\n",
       "    </tr>\n",
       "  </tbody>\n",
       "</table>\n",
       "</div>"
      ],
      "text/plain": [
       "         Pregnancies     Glucose  BloodPressure  SkinThickness     Insulin  \\\n",
       "Outcome                                                                      \n",
       "0           3.298000  109.980000      68.184000      19.664000   68.792000   \n",
       "1           4.865672  141.257463      70.824627      22.164179  100.335821   \n",
       "\n",
       "               BMI  DiabetesPedigreeFunction        Age  \n",
       "Outcome                                                  \n",
       "0        30.304200                  0.429734  31.190000  \n",
       "1        35.142537                  0.550500  37.067164  "
      ]
     },
     "execution_count": 9,
     "metadata": {},
     "output_type": "execute_result"
    }
   ],
   "source": [
    "df.groupby(\"Outcome\").mean()"
   ]
  },
  {
   "cell_type": "code",
   "execution_count": 10,
   "id": "9b021f85",
   "metadata": {
    "execution": {
     "iopub.execute_input": "2025-07-18T20:16:55.564108Z",
     "iopub.status.busy": "2025-07-18T20:16:55.563816Z",
     "iopub.status.idle": "2025-07-18T20:16:55.577082Z",
     "shell.execute_reply": "2025-07-18T20:16:55.576276Z"
    },
    "papermill": {
     "duration": 0.024158,
     "end_time": "2025-07-18T20:16:55.578385",
     "exception": false,
     "start_time": "2025-07-18T20:16:55.554227",
     "status": "completed"
    },
    "tags": []
   },
   "outputs": [
    {
     "data": {
      "text/html": [
       "<div>\n",
       "<style scoped>\n",
       "    .dataframe tbody tr th:only-of-type {\n",
       "        vertical-align: middle;\n",
       "    }\n",
       "\n",
       "    .dataframe tbody tr th {\n",
       "        vertical-align: top;\n",
       "    }\n",
       "\n",
       "    .dataframe thead th {\n",
       "        text-align: right;\n",
       "    }\n",
       "</style>\n",
       "<table border=\"1\" class=\"dataframe\">\n",
       "  <thead>\n",
       "    <tr style=\"text-align: right;\">\n",
       "      <th></th>\n",
       "      <th>Pregnancies</th>\n",
       "      <th>Glucose</th>\n",
       "      <th>BloodPressure</th>\n",
       "      <th>SkinThickness</th>\n",
       "      <th>Insulin</th>\n",
       "      <th>BMI</th>\n",
       "      <th>DiabetesPedigreeFunction</th>\n",
       "      <th>Age</th>\n",
       "    </tr>\n",
       "    <tr>\n",
       "      <th>Outcome</th>\n",
       "      <th></th>\n",
       "      <th></th>\n",
       "      <th></th>\n",
       "      <th></th>\n",
       "      <th></th>\n",
       "      <th></th>\n",
       "      <th></th>\n",
       "      <th></th>\n",
       "    </tr>\n",
       "  </thead>\n",
       "  <tbody>\n",
       "    <tr>\n",
       "      <th>0</th>\n",
       "      <td>3.017185</td>\n",
       "      <td>26.141200</td>\n",
       "      <td>18.063075</td>\n",
       "      <td>14.889947</td>\n",
       "      <td>98.865289</td>\n",
       "      <td>7.689855</td>\n",
       "      <td>0.299085</td>\n",
       "      <td>11.667655</td>\n",
       "    </tr>\n",
       "    <tr>\n",
       "      <th>1</th>\n",
       "      <td>3.741239</td>\n",
       "      <td>31.939622</td>\n",
       "      <td>21.491812</td>\n",
       "      <td>17.679711</td>\n",
       "      <td>138.689125</td>\n",
       "      <td>7.262967</td>\n",
       "      <td>0.372354</td>\n",
       "      <td>10.968254</td>\n",
       "    </tr>\n",
       "  </tbody>\n",
       "</table>\n",
       "</div>"
      ],
      "text/plain": [
       "         Pregnancies    Glucose  BloodPressure  SkinThickness     Insulin  \\\n",
       "Outcome                                                                     \n",
       "0           3.017185  26.141200      18.063075      14.889947   98.865289   \n",
       "1           3.741239  31.939622      21.491812      17.679711  138.689125   \n",
       "\n",
       "              BMI  DiabetesPedigreeFunction        Age  \n",
       "Outcome                                                 \n",
       "0        7.689855                  0.299085  11.667655  \n",
       "1        7.262967                  0.372354  10.968254  "
      ]
     },
     "execution_count": 10,
     "metadata": {},
     "output_type": "execute_result"
    }
   ],
   "source": [
    "df.groupby(\"Outcome\").std()"
   ]
  },
  {
   "cell_type": "code",
   "execution_count": 11,
   "id": "61897c96",
   "metadata": {
    "execution": {
     "iopub.execute_input": "2025-07-18T20:16:55.602759Z",
     "iopub.status.busy": "2025-07-18T20:16:55.597010Z",
     "iopub.status.idle": "2025-07-18T20:16:55.611604Z",
     "shell.execute_reply": "2025-07-18T20:16:55.610739Z"
    },
    "papermill": {
     "duration": 0.025873,
     "end_time": "2025-07-18T20:16:55.613210",
     "exception": false,
     "start_time": "2025-07-18T20:16:55.587337",
     "status": "completed"
    },
    "tags": []
   },
   "outputs": [
    {
     "data": {
      "text/plain": [
       "Outcome\n",
       "0    500\n",
       "1    268\n",
       "Name: count, dtype: int64"
      ]
     },
     "execution_count": 11,
     "metadata": {},
     "output_type": "execute_result"
    }
   ],
   "source": [
    "df[\"Outcome\"].value_counts()"
   ]
  },
  {
   "cell_type": "markdown",
   "id": "30fe0e3c",
   "metadata": {
    "papermill": {
     "duration": 0.009068,
     "end_time": "2025-07-18T20:16:55.631572",
     "exception": false,
     "start_time": "2025-07-18T20:16:55.622504",
     "status": "completed"
    },
    "tags": []
   },
   "source": [
    "1 => Diabetes\n",
    "\n",
    "\n",
    "0 => Non-Diabetes"
   ]
  },
  {
   "cell_type": "code",
   "execution_count": 12,
   "id": "f0feb890",
   "metadata": {
    "execution": {
     "iopub.execute_input": "2025-07-18T20:16:55.654490Z",
     "iopub.status.busy": "2025-07-18T20:16:55.654165Z",
     "iopub.status.idle": "2025-07-18T20:16:55.874694Z",
     "shell.execute_reply": "2025-07-18T20:16:55.873552Z"
    },
    "papermill": {
     "duration": 0.232926,
     "end_time": "2025-07-18T20:16:55.876103",
     "exception": false,
     "start_time": "2025-07-18T20:16:55.643177",
     "status": "completed"
    },
    "tags": []
   },
   "outputs": [
    {
     "data": {
      "text/plain": [
       "<Axes: xlabel='Outcome', ylabel='count'>"
      ]
     },
     "execution_count": 12,
     "metadata": {},
     "output_type": "execute_result"
    },
    {
     "data": {
      "image/png": "[encoded data removed]",
      "text/plain": [
       "<Figure size 640x480 with 1 Axes>"
      ]
     },
     "metadata": {},
     "output_type": "display_data"
    }
   ],
   "source": [
    "sns.countplot(x='Outcome',data=df)"
   ]
  },
  {
   "cell_type": "code",
   "execution_count": 13,
   "id": "9e38af23",
   "metadata": {
    "execution": {
     "iopub.execute_input": "2025-07-18T20:16:55.900546Z",
     "iopub.status.busy": "2025-07-18T20:16:55.899596Z",
     "iopub.status.idle": "2025-07-18T20:16:55.908918Z",
     "shell.execute_reply": "2025-07-18T20:16:55.907978Z"
    },
    "papermill": {
     "duration": 0.023854,
     "end_time": "2025-07-18T20:16:55.910690",
     "exception": false,
     "start_time": "2025-07-18T20:16:55.886836",
     "status": "completed"
    },
    "tags": []
   },
   "outputs": [
    {
     "data": {
      "text/plain": [
       "Pregnancies                 0.901674\n",
       "Glucose                     0.173754\n",
       "BloodPressure              -1.843608\n",
       "SkinThickness               0.109372\n",
       "Insulin                     2.272251\n",
       "BMI                        -0.428982\n",
       "DiabetesPedigreeFunction    1.919911\n",
       "Age                         1.129597\n",
       "Outcome                     0.635017\n",
       "dtype: float64"
      ]
     },
     "execution_count": 13,
     "metadata": {},
     "output_type": "execute_result"
    }
   ],
   "source": [
    "df.skew()"
   ]
  },
  {
   "cell_type": "code",
   "execution_count": 14,
   "id": "8a255c7e",
   "metadata": {
    "execution": {
     "iopub.execute_input": "2025-07-18T20:16:55.932113Z",
     "iopub.status.busy": "2025-07-18T20:16:55.931467Z",
     "iopub.status.idle": "2025-07-18T20:16:55.939345Z",
     "shell.execute_reply": "2025-07-18T20:16:55.938590Z"
    },
    "papermill": {
     "duration": 0.020105,
     "end_time": "2025-07-18T20:16:55.940740",
     "exception": false,
     "start_time": "2025-07-18T20:16:55.920635",
     "status": "completed"
    },
    "tags": []
   },
   "outputs": [
    {
     "data": {
      "text/plain": [
       "Pregnancies                 0.159220\n",
       "Glucose                     0.640780\n",
       "BloodPressure               5.180157\n",
       "SkinThickness              -0.520072\n",
       "Insulin                     7.214260\n",
       "BMI                         3.290443\n",
       "DiabetesPedigreeFunction    5.594954\n",
       "Age                         0.643159\n",
       "Outcome                    -1.600930\n",
       "dtype: float64"
      ]
     },
     "execution_count": 14,
     "metadata": {},
     "output_type": "execute_result"
    }
   ],
   "source": [
    "df.kurt()\n"
   ]
  },
  {
   "cell_type": "code",
   "execution_count": 15,
   "id": "7b0462ad",
   "metadata": {
    "execution": {
     "iopub.execute_input": "2025-07-18T20:16:55.960814Z",
     "iopub.status.busy": "2025-07-18T20:16:55.960252Z",
     "iopub.status.idle": "2025-07-18T20:16:57.664601Z",
     "shell.execute_reply": "2025-07-18T20:16:57.663730Z"
    },
    "papermill": {
     "duration": 1.717034,
     "end_time": "2025-07-18T20:16:57.667355",
     "exception": false,
     "start_time": "2025-07-18T20:16:55.950321",
     "status": "completed"
    },
    "tags": []
   },
   "outputs": [
    {
     "data": {
      "image/png": "[encoded data removed]",
      "text/plain": [
       "<Figure size 2000x4000 with 9 Axes>"
      ]
     },
     "metadata": {},
     "output_type": "display_data"
    }
   ],
   "source": [
    "plt.figure(figsize=(20,40))\n",
    "plotnum = 1\n",
    "for columns in df:\n",
    "    if plotnum <= len(df.columns) :\n",
    "        ax=plt.subplot(20,4,plotnum)\n",
    "        sns.distplot(df[columns])\n",
    "        plt.xlabel(columns,fontsize=15)\n",
    "    plotnum += 1\n",
    "plt.tight_layout() \n",
    "plt.show()"
   ]
  },
  {
   "cell_type": "code",
   "execution_count": 16,
   "id": "7184f8a0",
   "metadata": {
    "execution": {
     "iopub.execute_input": "2025-07-18T20:16:57.694324Z",
     "iopub.status.busy": "2025-07-18T20:16:57.693603Z",
     "iopub.status.idle": "2025-07-18T20:16:58.152346Z",
     "shell.execute_reply": "2025-07-18T20:16:58.151273Z"
    },
    "papermill": {
     "duration": 0.474226,
     "end_time": "2025-07-18T20:16:58.154556",
     "exception": false,
     "start_time": "2025-07-18T20:16:57.680330",
     "status": "completed"
    },
    "tags": []
   },
   "outputs": [
    {
     "data": {
      "text/plain": [
       "<Axes: >"
      ]
     },
     "execution_count": 16,
     "metadata": {},
     "output_type": "execute_result"
    },
    {
     "data": {
      "image/png": "[encoded data removed]",
      "text/plain": [
       "<Figure size 1500x1500 with 2 Axes>"
      ]
     },
     "metadata": {},
     "output_type": "display_data"
    }
   ],
   "source": [
    "corr=df.corr()\n",
    "plt.figure(figsize=(15,15))\n",
    "sns.heatmap(corr,fmt='.1f',cbar=True,square=True,annot=True,annot_kws={'size':20})"
   ]
  },
  {
   "cell_type": "markdown",
   "id": "60f138cd",
   "metadata": {
    "papermill": {
     "duration": 0.019934,
     "end_time": "2025-07-18T20:16:58.191333",
     "exception": false,
     "start_time": "2025-07-18T20:16:58.171399",
     "status": "completed"
    },
    "tags": []
   },
   "source": [
    "### show some informations about dataframe"
   ]
  },
  {
   "cell_type": "code",
   "execution_count": 17,
   "id": "0de9a78b",
   "metadata": {
    "execution": {
     "iopub.execute_input": "2025-07-18T20:16:58.229118Z",
     "iopub.status.busy": "2025-07-18T20:16:58.228823Z",
     "iopub.status.idle": "2025-07-18T20:16:58.247689Z",
     "shell.execute_reply": "2025-07-18T20:16:58.246370Z"
    },
    "papermill": {
     "duration": 0.040187,
     "end_time": "2025-07-18T20:16:58.249778",
     "exception": false,
     "start_time": "2025-07-18T20:16:58.209591",
     "status": "completed"
    },
    "tags": []
   },
   "outputs": [
    {
     "name": "stdout",
     "output_type": "stream",
     "text": [
      "<class 'pandas.core.frame.DataFrame'>\n",
      "RangeIndex: 768 entries, 0 to 767\n",
      "Data columns (total 9 columns):\n",
      " #   Column                    Non-Null Count  Dtype  \n",
      "---  ------                    --------------  -----  \n",
      " 0   Pregnancies               768 non-null    int64  \n",
      " 1   Glucose                   768 non-null    int64  \n",
      " 2   BloodPressure             768 non-null    int64  \n",
      " 3   SkinThickness             768 non-null    int64  \n",
      " 4   Insulin                   768 non-null    int64  \n",
      " 5   BMI                       768 non-null    float64\n",
      " 6   DiabetesPedigreeFunction  768 non-null    float64\n",
      " 7   Age                       768 non-null    int64  \n",
      " 8   Outcome                   768 non-null    int64  \n",
      "dtypes: float64(2), int64(7)\n",
      "memory usage: 54.1 KB\n"
     ]
    }
   ],
   "source": [
    "df.info()\n"
   ]
  },
  {
   "cell_type": "code",
   "execution_count": 18,
   "id": "ea291a22",
   "metadata": {
    "execution": {
     "iopub.execute_input": "2025-07-18T20:16:58.289793Z",
     "iopub.status.busy": "2025-07-18T20:16:58.289437Z",
     "iopub.status.idle": "2025-07-18T20:16:58.302383Z",
     "shell.execute_reply": "2025-07-18T20:16:58.301409Z"
    },
    "papermill": {
     "duration": 0.034424,
     "end_time": "2025-07-18T20:16:58.304908",
     "exception": false,
     "start_time": "2025-07-18T20:16:58.270484",
     "status": "completed"
    },
    "tags": []
   },
   "outputs": [
    {
     "name": "stdout",
     "output_type": "stream",
     "text": [
      "The Number of Null in DataFrame is:  0\n",
      "The Number of NAN in DataFrame is:  0\n",
      "The Number of duplicated in DataFrame is:  0\n"
     ]
    }
   ],
   "source": [
    "print(\"The Number of Null in DataFrame is: \",df.isnull().sum().sum())\n",
    "print(\"The Number of NAN in DataFrame is: \",df.isna().sum().sum())\n",
    "print(\"The Number of duplicated in DataFrame is: \",df.duplicated().sum().sum())\n"
   ]
  },
  {
   "cell_type": "markdown",
   "id": "077fdca3",
   "metadata": {
    "execution": {
     "iopub.execute_input": "2025-07-18T12:55:45.537518Z",
     "iopub.status.busy": "2025-07-18T12:55:45.537172Z",
     "iopub.status.idle": "2025-07-18T12:55:45.541541Z",
     "shell.execute_reply": "2025-07-18T12:55:45.540642Z",
     "shell.execute_reply.started": "2025-07-18T12:55:45.537495Z"
    },
    "papermill": {
     "duration": 0.017789,
     "end_time": "2025-07-18T20:16:58.342735",
     "exception": false,
     "start_time": "2025-07-18T20:16:58.324946",
     "status": "completed"
    },
    "tags": []
   },
   "source": [
    "### Separating the data"
   ]
  },
  {
   "cell_type": "code",
   "execution_count": 19,
   "id": "d3c367dd",
   "metadata": {
    "execution": {
     "iopub.execute_input": "2025-07-18T20:16:58.380972Z",
     "iopub.status.busy": "2025-07-18T20:16:58.379712Z",
     "iopub.status.idle": "2025-07-18T20:16:58.387152Z",
     "shell.execute_reply": "2025-07-18T20:16:58.385774Z"
    },
    "papermill": {
     "duration": 0.027883,
     "end_time": "2025-07-18T20:16:58.389134",
     "exception": false,
     "start_time": "2025-07-18T20:16:58.361251",
     "status": "completed"
    },
    "tags": []
   },
   "outputs": [],
   "source": [
    "features = df.iloc[:,:-1].values\n",
    "target = df.iloc[:,-1].values"
   ]
  },
  {
   "cell_type": "markdown",
   "id": "d6b68ee2",
   "metadata": {
    "execution": {
     "iopub.execute_input": "2025-07-18T12:56:28.571116Z",
     "iopub.status.busy": "2025-07-18T12:56:28.570456Z",
     "iopub.status.idle": "2025-07-18T12:56:28.574910Z",
     "shell.execute_reply": "2025-07-18T12:56:28.573803Z",
     "shell.execute_reply.started": "2025-07-18T12:56:28.571091Z"
    },
    "papermill": {
     "duration": 0.016127,
     "end_time": "2025-07-18T20:16:58.422579",
     "exception": false,
     "start_time": "2025-07-18T20:16:58.406452",
     "status": "completed"
    },
    "tags": []
   },
   "source": [
    "### Standerized the Data"
   ]
  },
  {
   "cell_type": "code",
   "execution_count": 20,
   "id": "93d4dfea",
   "metadata": {
    "execution": {
     "iopub.execute_input": "2025-07-18T20:16:58.455427Z",
     "iopub.status.busy": "2025-07-18T20:16:58.455142Z",
     "iopub.status.idle": "2025-07-18T20:16:58.460001Z",
     "shell.execute_reply": "2025-07-18T20:16:58.458826Z"
    },
    "papermill": {
     "duration": 0.022818,
     "end_time": "2025-07-18T20:16:58.461575",
     "exception": false,
     "start_time": "2025-07-18T20:16:58.438757",
     "status": "completed"
    },
    "tags": []
   },
   "outputs": [],
   "source": [
    "scaler = StandardScaler()"
   ]
  },
  {
   "cell_type": "code",
   "execution_count": 21,
   "id": "a2b9a761",
   "metadata": {
    "execution": {
     "iopub.execute_input": "2025-07-18T20:16:58.493767Z",
     "iopub.status.busy": "2025-07-18T20:16:58.493455Z",
     "iopub.status.idle": "2025-07-18T20:16:58.498601Z",
     "shell.execute_reply": "2025-07-18T20:16:58.497869Z"
    },
    "papermill": {
     "duration": 0.023006,
     "end_time": "2025-07-18T20:16:58.500110",
     "exception": false,
     "start_time": "2025-07-18T20:16:58.477104",
     "status": "completed"
    },
    "tags": []
   },
   "outputs": [],
   "source": [
    "standerized_features = scaler.fit_transform(features)\n"
   ]
  },
  {
   "cell_type": "code",
   "execution_count": 22,
   "id": "273d79bf",
   "metadata": {
    "execution": {
     "iopub.execute_input": "2025-07-18T20:16:58.534243Z",
     "iopub.status.busy": "2025-07-18T20:16:58.533940Z",
     "iopub.status.idle": "2025-07-18T20:16:58.539880Z",
     "shell.execute_reply": "2025-07-18T20:16:58.538952Z"
    },
    "papermill": {
     "duration": 0.024696,
     "end_time": "2025-07-18T20:16:58.541568",
     "exception": false,
     "start_time": "2025-07-18T20:16:58.516872",
     "status": "completed"
    },
    "tags": []
   },
   "outputs": [
    {
     "data": {
      "text/plain": [
       "1.0"
      ]
     },
     "execution_count": 22,
     "metadata": {},
     "output_type": "execute_result"
    }
   ],
   "source": [
    "standerized_features.std()"
   ]
  },
  {
   "cell_type": "code",
   "execution_count": 23,
   "id": "fa7127e5",
   "metadata": {
    "execution": {
     "iopub.execute_input": "2025-07-18T20:16:58.578120Z",
     "iopub.status.busy": "2025-07-18T20:16:58.577501Z",
     "iopub.status.idle": "2025-07-18T20:16:58.582502Z",
     "shell.execute_reply": "2025-07-18T20:16:58.581438Z"
    },
    "papermill": {
     "duration": 0.025925,
     "end_time": "2025-07-18T20:16:58.584499",
     "exception": false,
     "start_time": "2025-07-18T20:16:58.558574",
     "status": "completed"
    },
    "tags": []
   },
   "outputs": [],
   "source": [
    "## Train Test split"
   ]
  },
  {
   "cell_type": "code",
   "execution_count": 24,
   "id": "da2c8316",
   "metadata": {
    "execution": {
     "iopub.execute_input": "2025-07-18T20:16:58.618147Z",
     "iopub.status.busy": "2025-07-18T20:16:58.617883Z",
     "iopub.status.idle": "2025-07-18T20:16:58.624469Z",
     "shell.execute_reply": "2025-07-18T20:16:58.623580Z"
    },
    "papermill": {
     "duration": 0.025493,
     "end_time": "2025-07-18T20:16:58.626103",
     "exception": false,
     "start_time": "2025-07-18T20:16:58.600610",
     "status": "completed"
    },
    "tags": []
   },
   "outputs": [],
   "source": [
    "X_train,X_test,Y_train,Y_test=train_test_split(standerized_features,target,test_size=0.2,random_state=11,stratify=target)"
   ]
  },
  {
   "cell_type": "markdown",
   "id": "7433f646",
   "metadata": {
    "papermill": {
     "duration": 0.017424,
     "end_time": "2025-07-18T20:16:58.659290",
     "exception": false,
     "start_time": "2025-07-18T20:16:58.641866",
     "status": "completed"
    },
    "tags": []
   },
   "source": [
    "### Train the Model"
   ]
  },
  {
   "cell_type": "code",
   "execution_count": 25,
   "id": "fa7228a4",
   "metadata": {
    "execution": {
     "iopub.execute_input": "2025-07-18T20:16:58.693778Z",
     "iopub.status.busy": "2025-07-18T20:16:58.693314Z",
     "iopub.status.idle": "2025-07-18T20:16:58.700318Z",
     "shell.execute_reply": "2025-07-18T20:16:58.698636Z"
    },
    "papermill": {
     "duration": 0.026386,
     "end_time": "2025-07-18T20:16:58.701970",
     "exception": false,
     "start_time": "2025-07-18T20:16:58.675584",
     "status": "completed"
    },
    "tags": []
   },
   "outputs": [],
   "source": [
    "model = SVMC(learning_rate=0.0001,no_of_iterations=1000,lambda_parameter=0.01)"
   ]
  },
  {
   "cell_type": "code",
   "execution_count": 26,
   "id": "90775204",
   "metadata": {
    "execution": {
     "iopub.execute_input": "2025-07-18T20:16:58.736280Z",
     "iopub.status.busy": "2025-07-18T20:16:58.735488Z",
     "iopub.status.idle": "2025-07-18T20:16:59.731219Z",
     "shell.execute_reply": "2025-07-18T20:16:59.730439Z"
    },
    "papermill": {
     "duration": 1.014083,
     "end_time": "2025-07-18T20:16:59.732781",
     "exception": false,
     "start_time": "2025-07-18T20:16:58.718698",
     "status": "completed"
    },
    "tags": []
   },
   "outputs": [],
   "source": [
    "model.fit(X_train,Y_train)"
   ]
  },
  {
   "cell_type": "code",
   "execution_count": 27,
   "id": "f4532a62",
   "metadata": {
    "execution": {
     "iopub.execute_input": "2025-07-18T20:16:59.765202Z",
     "iopub.status.busy": "2025-07-18T20:16:59.764870Z",
     "iopub.status.idle": "2025-07-18T20:16:59.771353Z",
     "shell.execute_reply": "2025-07-18T20:16:59.770397Z"
    },
    "papermill": {
     "duration": 0.024562,
     "end_time": "2025-07-18T20:16:59.772920",
     "exception": false,
     "start_time": "2025-07-18T20:16:59.748358",
     "status": "completed"
    },
    "tags": []
   },
   "outputs": [
    {
     "name": "stdout",
     "output_type": "stream",
     "text": [
      "The Accurcy Score of Trainning Data is :   0.5179153094462541\n"
     ]
    }
   ],
   "source": [
    "Y_train_pred = model.predict(X_train)\n",
    "score1=accuracy_score(Y_train,Y_train_pred)\n",
    "\n",
    "print(\"The Accurcy Score of Trainning Data is :  \", score1)"
   ]
  },
  {
   "cell_type": "code",
   "execution_count": 28,
   "id": "67449523",
   "metadata": {
    "execution": {
     "iopub.execute_input": "2025-07-18T20:16:59.806169Z",
     "iopub.status.busy": "2025-07-18T20:16:59.805827Z",
     "iopub.status.idle": "2025-07-18T20:16:59.811961Z",
     "shell.execute_reply": "2025-07-18T20:16:59.810974Z"
    },
    "papermill": {
     "duration": 0.024385,
     "end_time": "2025-07-18T20:16:59.813313",
     "exception": false,
     "start_time": "2025-07-18T20:16:59.788928",
     "status": "completed"
    },
    "tags": []
   },
   "outputs": [
    {
     "name": "stdout",
     "output_type": "stream",
     "text": [
      "The Accurcy Score of testning Data is :   0.4675324675324675\n"
     ]
    }
   ],
   "source": [
    "Y_test_pred = model.predict(X_test)\n",
    "score2=accuracy_score(Y_test,Y_test_pred)\n",
    "\n",
    "print(\"The Accurcy Score of testning Data is :  \", score2)"
   ]
  },
  {
   "cell_type": "markdown",
   "id": "76431d55",
   "metadata": {
    "papermill": {
     "duration": 0.015393,
     "end_time": "2025-07-18T20:16:59.845559",
     "exception": false,
     "start_time": "2025-07-18T20:16:59.830166",
     "status": "completed"
    },
    "tags": []
   },
   "source": [
    "### Make Prediction System"
   ]
  },
  {
   "cell_type": "code",
   "execution_count": 29,
   "id": "e750a4a6",
   "metadata": {
    "execution": {
     "iopub.execute_input": "2025-07-18T20:16:59.878681Z",
     "iopub.status.busy": "2025-07-18T20:16:59.878004Z",
     "iopub.status.idle": "2025-07-18T20:16:59.884637Z",
     "shell.execute_reply": "2025-07-18T20:16:59.883434Z"
    },
    "papermill": {
     "duration": 0.0257,
     "end_time": "2025-07-18T20:16:59.886733",
     "exception": false,
     "start_time": "2025-07-18T20:16:59.861033",
     "status": "completed"
    },
    "tags": []
   },
   "outputs": [
    {
     "name": "stdout",
     "output_type": "stream",
     "text": [
      "the Final Prediction Is  : Diabetes\n"
     ]
    }
   ],
   "source": [
    "input_data=(6,148,72,35,0,33.6,0.627,50)\n",
    "input_as_array=np.asarray(input_data)\n",
    "input_reshaped=input_as_array.reshape(1,-1)\n",
    "\n",
    "prediction =model.predict(input_reshaped)\n",
    "if prediction == 0:\n",
    "    prediction = \"Non-Diabetes\"\n",
    "else :\n",
    "    prediction = \"Diabetes\"\n",
    "\n",
    "print(f\"the Final Prediction Is  : {prediction}\")"
   ]
  },
  {
   "cell_type": "code",
   "execution_count": 30,
   "id": "fd2ab013",
   "metadata": {
    "execution": {
     "iopub.execute_input": "2025-07-18T20:16:59.921979Z",
     "iopub.status.busy": "2025-07-18T20:16:59.921683Z",
     "iopub.status.idle": "2025-07-18T20:16:59.925588Z",
     "shell.execute_reply": "2025-07-18T20:16:59.924700Z"
    },
    "papermill": {
     "duration": 0.022484,
     "end_time": "2025-07-18T20:16:59.926848",
     "exception": false,
     "start_time": "2025-07-18T20:16:59.904364",
     "status": "completed"
    },
    "tags": []
   },
   "outputs": [],
   "source": [
    "## SVMC by clude AI"
   ]
  },
  {
   "cell_type": "code",
   "execution_count": 31,
   "id": "429da4f9",
   "metadata": {
    "execution": {
     "iopub.execute_input": "2025-07-18T20:16:59.959627Z",
     "iopub.status.busy": "2025-07-18T20:16:59.959381Z",
     "iopub.status.idle": "2025-07-18T20:17:00.102201Z",
     "shell.execute_reply": "2025-07-18T20:17:00.101067Z"
    },
    "papermill": {
     "duration": 0.161379,
     "end_time": "2025-07-18T20:17:00.103893",
     "exception": false,
     "start_time": "2025-07-18T20:16:59.942514",
     "status": "completed"
    },
    "tags": []
   },
   "outputs": [],
   "source": [
    "import numpy as np\n",
    "import matplotlib.pyplot as plt\n",
    "from sklearn.preprocessing import StandardScaler\n",
    "from sklearn.model_selection import train_test_split\n",
    "from sklearn.metrics import accuracy_score, classification_report, confusion_matrix\n",
    "import warnings\n",
    "warnings.filterwarnings('ignore')\n",
    "\n",
    "class SVMC:\n",
    "    def __init__(self, \n",
    "                 C=1.0, \n",
    "                 learning_rate=0.01, \n",
    "                 max_iter=1000, \n",
    "                 tol=1e-4, \n",
    "                 kernel='linear',\n",
    "                 gamma='scale',\n",
    "                 degree=3,\n",
    "                 coef0=0.0,\n",
    "                 random_state=None,\n",
    "                 verbose=False):\n",
    "        \"\"\"\n",
    "        Support Vector Machine Classifier محسن\n",
    "        \n",
    "        Parameters:\n",
    "        -----------\n",
    "        C : float, default=1.0\n",
    "            معامل التنظيم (كلما قل C، زاد التنظيم)\n",
    "        learning_rate : float, default=0.01\n",
    "            معدل التعلم\n",
    "        max_iter : int, default=1000\n",
    "            أقصى عدد تكرارات\n",
    "        tol : float, default=1e-4\n",
    "            حد التسامح للتوقف\n",
    "        kernel : str, default='linear'\n",
    "            نوع الـ kernel ('linear', 'rbf', 'poly', 'sigmoid')\n",
    "        gamma : str or float, default='scale'\n",
    "            معامل kernel للـ RBF, poly, sigmoid\n",
    "        degree : int, default=3\n",
    "            درجة polynomial kernel\n",
    "        coef0 : float, default=0.0\n",
    "            مصطلح مستقل في kernel\n",
    "        random_state : int, default=None\n",
    "            للتحكم في العشوائية\n",
    "        verbose : bool, default=False\n",
    "            لطباعة معلومات التدريب\n",
    "        \"\"\"\n",
    "        self.C = C\n",
    "        self.learning_rate = learning_rate\n",
    "        self.max_iter = max_iter\n",
    "        self.tol = tol\n",
    "        self.kernel = kernel\n",
    "        self.gamma = gamma\n",
    "        self.degree = degree\n",
    "        self.coef0 = coef0\n",
    "        self.random_state = random_state\n",
    "        self.verbose = verbose\n",
    "        \n",
    "        # متغيرات داخلية\n",
    "        self.w = None\n",
    "        self.b = 0\n",
    "        self.support_vectors_ = None\n",
    "        self.support_vector_labels_ = None\n",
    "        self.n_support_ = None\n",
    "        self.training_accuracy_ = None\n",
    "        self.cost_history_ = []\n",
    "        self.is_fitted_ = False\n",
    "        \n",
    "        if random_state is not None:\n",
    "            np.random.seed(random_state)\n",
    "    \n",
    "    def _compute_kernel_matrix(self, X1, X2=None):\n",
    "        \"\"\"\n",
    "        حساب kernel matrix\n",
    "        \"\"\"\n",
    "        if X2 is None:\n",
    "            X2 = X1\n",
    "            \n",
    "        if self.kernel == 'linear':\n",
    "            return np.dot(X1, X2.T)\n",
    "        \n",
    "        elif self.kernel == 'rbf':\n",
    "            if self.gamma == 'scale':\n",
    "                gamma = 1.0 / (X1.shape[1] * X1.var())\n",
    "            else:\n",
    "                gamma = self.gamma\n",
    "            \n",
    "            # حساب المسافة الإقليدية\n",
    "            sq_dists = np.sum(X1**2, axis=1).reshape(-1, 1) + \\\n",
    "                       np.sum(X2**2, axis=1) - 2 * np.dot(X1, X2.T)\n",
    "            return np.exp(-gamma * sq_dists)\n",
    "        \n",
    "        elif self.kernel == 'poly':\n",
    "            if self.gamma == 'scale':\n",
    "                gamma = 1.0 / X1.shape[1]\n",
    "            else:\n",
    "                gamma = self.gamma\n",
    "            return (gamma * np.dot(X1, X2.T) + self.coef0) ** self.degree\n",
    "        \n",
    "        elif self.kernel == 'sigmoid':\n",
    "            if self.gamma == 'scale':\n",
    "                gamma = 1.0 / X1.shape[1]\n",
    "            else:\n",
    "                gamma = self.gamma\n",
    "            return np.tanh(gamma * np.dot(X1, X2.T) + self.coef0)\n",
    "    \n",
    "    def _compute_cost(self, X, y):\n",
    "        \"\"\"\n",
    "        حساب دالة التكلفة (Hinge Loss + Regularization)\n",
    "        \"\"\"\n",
    "        if self.kernel == 'linear':\n",
    "            distances = np.dot(X, self.w) - self.b\n",
    "        else:\n",
    "            K = self._compute_kernel_matrix(X, self.X_train)\n",
    "            distances = np.dot(K, self.alpha * self.y_train) - self.b\n",
    "        \n",
    "        # Hinge Loss\n",
    "        hinge_loss = np.maximum(0, 1 - y * distances)\n",
    "        \n",
    "        # إجمالي التكلفة\n",
    "        if self.kernel == 'linear':\n",
    "            regularization = 0.5 * np.dot(self.w, self.w)\n",
    "        else:\n",
    "            regularization = 0.5 * np.sum(self.alpha**2)\n",
    "        \n",
    "        cost = self.C * np.mean(hinge_loss) + regularization\n",
    "        return cost\n",
    "    \n",
    "    def fit(self, X, y):\n",
    "        \"\"\"\n",
    "        تدريب النموذج\n",
    "        \"\"\"\n",
    "        # التحقق من صحة البيانات\n",
    "        X = np.array(X)\n",
    "        y = np.array(y)\n",
    "        \n",
    "        if X.ndim != 2:\n",
    "            raise ValueError(\"X يجب أن يكون مصفوفة ثنائية الأبعاد\")\n",
    "        \n",
    "        self.n_samples_, self.n_features_ = X.shape\n",
    "        \n",
    "        # تحويل التصنيفات إلى -1 و 1\n",
    "        self.classes_ = np.unique(y)\n",
    "        if len(self.classes_) != 2:\n",
    "            raise ValueError(\"يدعم هذا المصنف التصنيف الثنائي فقط\")\n",
    "        \n",
    "        y_binary = np.where(y == self.classes_[0], -1, 1)\n",
    "        \n",
    "        # حفظ بيانات التدريب\n",
    "        self.X_train = X.copy()\n",
    "        self.y_train = y_binary.copy()\n",
    "        \n",
    "        if self.kernel == 'linear':\n",
    "            self._fit_linear(X, y_binary)\n",
    "        else:\n",
    "            self._fit_kernel(X, y_binary)\n",
    "\n",
    "        # النموذج أصبح مدرب الآن\n",
    "        self.is_fitted_ = True  # ← ضع هذا قبل أي استدعاء لـ predict\n",
    "\n",
    "        # حساب دقة التدريب\n",
    "        train_pred = self.predict(X)\n",
    "        self.training_accuracy_ = accuracy_score(y, train_pred)\n",
    "    \n",
    "        # تحديد Support Vectors\n",
    "        self._find_support_vectors()\n",
    "        \n",
    "        self.is_fitted_ = True\n",
    "        \n",
    "        if self.verbose:\n",
    "            print(f\"التدريب اكتمل بنجاح!\")\n",
    "            print(f\"دقة التدريب: {self.training_accuracy_:.4f}\")\n",
    "            print(f\"عدد Support Vectors: {len(self.support_vectors_)}\")\n",
    "        \n",
    "        return self\n",
    "    \n",
    "    def _fit_linear(self, X, y):\n",
    "        \"\"\"\n",
    "        تدريب النموذج الخطي\n",
    "        \"\"\"\n",
    "        # تهيئة المعاملات\n",
    "        self.w = np.random.normal(0, 0.01, self.n_features_)\n",
    "        self.b = 0\n",
    "        \n",
    "        prev_cost = float('inf')\n",
    "        \n",
    "        for iteration in range(self.max_iter):\n",
    "            # حساب التكلفة\n",
    "            cost = self._compute_cost(X, y)\n",
    "            self.cost_history_.append(cost)\n",
    "            \n",
    "            # التحقق من التقارب\n",
    "            if abs(prev_cost - cost) < self.tol:\n",
    "                if self.verbose:\n",
    "                    print(f\"تقارب في التكرار {iteration}\")\n",
    "                break\n",
    "            \n",
    "            prev_cost = cost\n",
    "            \n",
    "            # Gradient Descent\n",
    "            for i in range(self.n_samples_):\n",
    "                distance = np.dot(X[i], self.w) - self.b\n",
    "                \n",
    "                if y[i] * distance >= 1:\n",
    "                    # نقطة مصنفة بشكل صحيح\n",
    "                    dw = self.w / self.C\n",
    "                    db = 0\n",
    "                else:\n",
    "                    # نقطة مصنفة بشكل خاطئ أو في الهامش\n",
    "                    dw = self.w / self.C - y[i] * X[i]\n",
    "                    db = -y[i]\n",
    "                \n",
    "                # تحديث المعاملات\n",
    "                self.w = self.w - self.learning_rate * dw\n",
    "                self.b = self.b - self.learning_rate * db\n",
    "    \n",
    "    def _fit_kernel(self, X, y):\n",
    "        \"\"\"\n",
    "        تدريب النموذج باستخدام kernel\n",
    "        \"\"\"\n",
    "        # تهيئة معاملات Lagrange\n",
    "        self.alpha = np.random.uniform(0, self.C, self.n_samples_)\n",
    "        self.b = 0\n",
    "        \n",
    "        # حساب kernel matrix\n",
    "        K = self._compute_kernel_matrix(X, X)\n",
    "        \n",
    "        prev_cost = float('inf')\n",
    "        \n",
    "        for iteration in range(self.max_iter):\n",
    "            # تحديث معاملات alpha (نسخة مبسطة من SMO)\n",
    "            for i in range(self.n_samples_):\n",
    "                # حساب الخطأ\n",
    "                error_i = np.sum(self.alpha * y * K[i, :]) - self.b - y[i]\n",
    "                \n",
    "                if (y[i] * error_i < -self.tol and self.alpha[i] < self.C) or \\\n",
    "                   (y[i] * error_i > self.tol and self.alpha[i] > 0):\n",
    "                    \n",
    "                    # اختيار j عشوائياً\n",
    "                    j = np.random.randint(0, self.n_samples_)\n",
    "                    while j == i:\n",
    "                        j = np.random.randint(0, self.n_samples_)\n",
    "                    \n",
    "                    error_j = np.sum(self.alpha * y * K[j, :]) - self.b - y[j]\n",
    "                    \n",
    "                    # حفظ القيم القديمة\n",
    "                    alpha_i_old = self.alpha[i]\n",
    "                    alpha_j_old = self.alpha[j]\n",
    "                    \n",
    "                    # حساب الحدود\n",
    "                    if y[i] != y[j]:\n",
    "                        L = max(0, self.alpha[j] - self.alpha[i])\n",
    "                        H = min(self.C, self.C + self.alpha[j] - self.alpha[i])\n",
    "                    else:\n",
    "                        L = max(0, self.alpha[i] + self.alpha[j] - self.C)\n",
    "                        H = min(self.C, self.alpha[i] + self.alpha[j])\n",
    "                    \n",
    "                    if L == H:\n",
    "                        continue\n",
    "                    \n",
    "                    # حساب eta\n",
    "                    eta = 2 * K[i, j] - K[i, i] - K[j, j]\n",
    "                    if eta >= 0:\n",
    "                        continue\n",
    "                    \n",
    "                    # تحديث alpha_j\n",
    "                    self.alpha[j] = alpha_j_old - (y[j] * (error_i - error_j)) / eta\n",
    "                    \n",
    "                    # قص alpha_j\n",
    "                    self.alpha[j] = max(L, min(H, self.alpha[j]))\n",
    "                    \n",
    "                    if abs(self.alpha[j] - alpha_j_old) < 1e-5:\n",
    "                        continue\n",
    "                    \n",
    "                    # تحديث alpha_i\n",
    "                    self.alpha[i] = alpha_i_old + y[i] * y[j] * (alpha_j_old - self.alpha[j])\n",
    "                    \n",
    "                    # تحديث b\n",
    "                    b1 = self.b - error_i - y[i] * (self.alpha[i] - alpha_i_old) * K[i, i] - \\\n",
    "                         y[j] * (self.alpha[j] - alpha_j_old) * K[i, j]\n",
    "                    b2 = self.b - error_j - y[i] * (self.alpha[i] - alpha_i_old) * K[i, j] - \\\n",
    "                         y[j] * (self.alpha[j] - alpha_j_old) * K[j, j]\n",
    "                    \n",
    "                    if 0 < self.alpha[i] < self.C:\n",
    "                        self.b = b1\n",
    "                    elif 0 < self.alpha[j] < self.C:\n",
    "                        self.b = b2\n",
    "                    else:\n",
    "                        self.b = (b1 + b2) / 2\n",
    "            \n",
    "            # حساب التكلفة\n",
    "            cost = self._compute_cost(X, y)\n",
    "            self.cost_history_.append(cost)\n",
    "            \n",
    "            if abs(prev_cost - cost) < self.tol:\n",
    "                if self.verbose:\n",
    "                    print(f\"تقارب في التكرار {iteration}\")\n",
    "                break\n",
    "            \n",
    "            prev_cost = cost\n",
    "    \n",
    "    def _find_support_vectors(self):\n",
    "        \"\"\"\n",
    "        تحديد Support Vectors\n",
    "        \"\"\"\n",
    "        if self.kernel == 'linear':\n",
    "            # للـ kernel الخطي، نجد النقاط القريبة من الحدود\n",
    "            distances = np.abs(np.dot(self.X_train, self.w) - self.b)\n",
    "            margin = 1.0 / np.linalg.norm(self.w)\n",
    "            support_mask = distances <= margin * 1.1  # هامش صغير للدقة العددية\n",
    "        else:\n",
    "            # للـ kernels الأخرى، النقاط مع alpha > 0\n",
    "            support_mask = self.alpha > 1e-5\n",
    "        \n",
    "        self.support_vectors_ = self.X_train[support_mask]\n",
    "        self.support_vector_labels_ = self.y_train[support_mask]\n",
    "        self.n_support_ = [np.sum(self.support_vector_labels_ == -1), \n",
    "                          np.sum(self.support_vector_labels_ == 1)]\n",
    "    \n",
    "    def predict(self, X):\n",
    "        \"\"\"\n",
    "        التنبؤ بالتصنيفات\n",
    "        \"\"\"\n",
    "        if not self.is_fitted_:\n",
    "            raise ValueError(\"يجب تدريب النموذج أولاً\")\n",
    "        \n",
    "        X = np.array(X)\n",
    "        if X.ndim == 1:\n",
    "            X = X.reshape(1, -1)\n",
    "        \n",
    "        decision_values = self.decision_function(X)\n",
    "        predictions = np.where(decision_values >= 0, self.classes_[1], self.classes_[0])\n",
    "        \n",
    "        return predictions\n",
    "    \n",
    "    def decision_function(self, X):\n",
    "        \"\"\"\n",
    "        حساب قيم القرار (المسافة من فرط المستوى)\n",
    "        \"\"\"\n",
    "        if not self.is_fitted_:\n",
    "            raise ValueError(\"يجب تدريب النموذج أولاً\")\n",
    "        \n",
    "        X = np.array(X)\n",
    "        if X.ndim == 1:\n",
    "            X = X.reshape(1, -1)\n",
    "        \n",
    "        if self.kernel == 'linear':\n",
    "            return np.dot(X, self.w) - self.b\n",
    "        else:\n",
    "            K = self._compute_kernel_matrix(X, self.X_train)\n",
    "            return np.dot(K, self.alpha * self.y_train) - self.b\n",
    "    \n",
    "    def predict_proba(self, X):\n",
    "        \"\"\"\n",
    "        التنبؤ بالاحتماليات (تقريبي)\n",
    "        \"\"\"\n",
    "        decision_values = self.decision_function(X)\n",
    "        # تحويل تقريبي للاحتماليات باستخدام sigmoid\n",
    "        probs = 1 / (1 + np.exp(-decision_values))\n",
    "        return np.column_stack([1 - probs, probs])\n",
    "    \n",
    "    def score(self, X, y):\n",
    "        \"\"\"\n",
    "        حساب دقة النموذج\n",
    "        \"\"\"\n",
    "        return accuracy_score(y, self.predict(X))\n",
    "    \n",
    "    def plot_decision_boundary(self, X, y, title=\"SVM Decision Boundary\"):\n",
    "        \"\"\"\n",
    "        رسم حدود القرار (للبيانات ثنائية الأبعاد فقط)\n",
    "        \"\"\"\n",
    "        if X.shape[1] != 2:\n",
    "            raise ValueError(\"يمكن رسم حدود القرار للبيانات ثنائية الأبعاد فقط\")\n",
    "        \n",
    "        plt.figure(figsize=(8, 8))\n",
    "        \n",
    "        # إنشاء شبكة للرسم\n",
    "        h = 0.02\n",
    "        x_min, x_max = X[:, 0].min() - 1, X[:, 0].max() + 1\n",
    "        y_min, y_max = X[:, 1].min() - 1, X[:, 1].max() + 1\n",
    "        xx, yy = np.meshgrid(np.arange(x_min, x_max, h),\n",
    "                            np.arange(y_min, y_max, h))\n",
    "        \n",
    "        # التنبؤ على الشبكة\n",
    "        mesh_points = np.c_[xx.ravel(), yy.ravel()]\n",
    "        Z = self.decision_function(mesh_points)\n",
    "        Z = Z.reshape(xx.shape)\n",
    "        \n",
    "        # رسم حدود القرار\n",
    "        plt.contourf(xx, yy, Z, levels=50, alpha=0.8, cmap=plt.cm.RdYlBu)\n",
    "        plt.contour(xx, yy, Z, levels=[0], colors='black', linestyles='--', linewidths=2)\n",
    "        \n",
    "        # رسم النقاط\n",
    "        scatter = plt.scatter(X[:, 0], X[:, 1], c=y, cmap=plt.cm.RdYlBu, edgecolors='black')\n",
    "        \n",
    "        # رسم Support Vectors\n",
    "        if hasattr(self, 'support_vectors_'):\n",
    "            plt.scatter(self.support_vectors_[:, 0], self.support_vectors_[:, 1], \n",
    "                       s=100, facecolors='none', edgecolors='red', linewidths=2, \n",
    "                       label='Support Vectors')\n",
    "        \n",
    "        plt.colorbar(scatter)\n",
    "        plt.xlabel('Feature 1')\n",
    "        plt.ylabel('Feature 2')\n",
    "        plt.title(title)\n",
    "        plt.legend()\n",
    "        plt.grid(True, alpha=0.3)\n",
    "        plt.show()\n",
    "    \n",
    "    def plot_cost_history(self):\n",
    "        \"\"\"\n",
    "        رسم تاريخ التكلفة أثناء التدريب\n",
    "        \"\"\"\n",
    "        plt.figure(figsize=(8, 6))\n",
    "        plt.plot(self.cost_history_, 'b-', linewidth=2)\n",
    "        plt.xlabel('Iteration')\n",
    "        plt.ylabel('Cost')\n",
    "        plt.title('Training Cost History')\n",
    "        plt.grid(True, alpha=0.3)\n",
    "        plt.show()\n",
    "    \n",
    "    def get_params(self, deep=True):\n",
    "        \"\"\"\n",
    "        الحصول على معاملات النموذج\n",
    "        \"\"\"\n",
    "        params = {\n",
    "            'C': self.C,\n",
    "            'learning_rate': self.learning_rate,\n",
    "            'max_iter': self.max_iter,\n",
    "            'tol': self.tol,\n",
    "            'kernel': self.kernel,\n",
    "            'gamma': self.gamma,\n",
    "            'degree': self.degree,\n",
    "            'coef0': self.coef0,\n",
    "            'random_state': self.random_state,\n",
    "            'verbose': self.verbose\n",
    "        }\n",
    "        \n",
    "        if self.is_fitted_:\n",
    "            params.update({\n",
    "                'n_support_vectors': len(self.support_vectors_) if hasattr(self, 'support_vectors_') else 0,\n",
    "                'training_accuracy': self.training_accuracy_,\n",
    "                'n_iterations': len(self.cost_history_)\n",
    "            })\n",
    "        \n",
    "        return params\n",
    "    \n",
    "    def set_params(self, **parameters):\n",
    "        \"\"\"\n",
    "        تعديل معاملات النموذج\n",
    "        \"\"\"\n",
    "        for parameter, value in parameters.items():\n",
    "            setattr(self, parameter, value)\n",
    "        return self\n",
    "\n"
   ]
  },
  {
   "cell_type": "code",
   "execution_count": 32,
   "id": "fc57d918",
   "metadata": {
    "execution": {
     "iopub.execute_input": "2025-07-18T20:17:00.138791Z",
     "iopub.status.busy": "2025-07-18T20:17:00.137683Z",
     "iopub.status.idle": "2025-07-18T20:17:00.147538Z",
     "shell.execute_reply": "2025-07-18T20:17:00.146309Z"
    },
    "papermill": {
     "duration": 0.029113,
     "end_time": "2025-07-18T20:17:00.149059",
     "exception": false,
     "start_time": "2025-07-18T20:17:00.119946",
     "status": "completed"
    },
    "tags": []
   },
   "outputs": [
    {
     "name": "stdout",
     "output_type": "stream",
     "text": [
      "============================================================\n",
      "🚀 مثال على استخدام SVM المحسن مع أنواع Kernels مختلفة\n",
      "============================================================\n",
      "============================================================\n",
      "🔍 تجربة SVM باستخدام Kernel: linear\n",
      "============================================================\n",
      "\n",
      "❌ حدث خطأ أثناء تجربة Kernel = linear: name 'y_train' is not defined\n",
      "============================================================\n",
      "🔍 تجربة SVM باستخدام Kernel: rbf\n",
      "============================================================\n",
      "\n",
      "❌ حدث خطأ أثناء تجربة Kernel = rbf: name 'y_train' is not defined\n",
      "============================================================\n",
      "🔍 تجربة SVM باستخدام Kernel: poly\n",
      "============================================================\n",
      "\n",
      "❌ حدث خطأ أثناء تجربة Kernel = poly: name 'y_train' is not defined\n",
      "\n",
      "🏁 ✅ انتهى المثال بنجاح لجميع الـ Kernels.\n"
     ]
    }
   ],
   "source": [
    "if __name__ == \"__main__\":\n",
    "    from sklearn.preprocessing import StandardScaler\n",
    "    from sklearn.metrics import accuracy_score, classification_report\n",
    "    import warnings\n",
    "\n",
    "    # تجاهل التحذيرات غير الضرورية\n",
    "    warnings.filterwarnings(\"ignore\")\n",
    "\n",
    "    print(\"=\" * 60)\n",
    "    print(\"🚀 مثال على استخدام SVM المحسن مع أنواع Kernels مختلفة\")\n",
    "    print(\"=\" * 60)\n",
    "\n",
    "\n",
    "    # 2. تجربة عدة Kernels\n",
    "    kernels = ['linear', 'rbf', 'poly']\n",
    "    \n",
    "    for kernel in kernels:\n",
    "        print(\"=\" * 60)\n",
    "        print(f\"🔍 تجربة SVM باستخدام Kernel: {kernel}\")\n",
    "        print(\"=\" * 60)\n",
    "\n",
    "        try:\n",
    "            # 3. إنشاء وتدريب النموذج\n",
    "            svm = SVMC(C=1.0, kernel=kernel, max_iter=1000, verbose=True, random_state=42)\n",
    "            svm.fit(X_train, y_train)\n",
    "\n",
    "            # 4. التنبؤ\n",
    "            y_pred = svm.predict(X_test_scaled)\n",
    "            accuracy = accuracy_score(y_test, y_pred)\n",
    "\n",
    "            print(f\"\\n📈 دقة النموذج على بيانات الاختبار: {accuracy:.4f}\")\n",
    "            print(f\"🧠 عدد الـ Support Vectors: {len(svm.support_vectors_)}\")\n",
    "\n",
    "            # 5. تقرير التصنيف\n",
    "            print(\"\\n📋 تقرير التصنيف:\")\n",
    "            print(classification_report(y_test, y_pred))\n",
    "\n",
    "            # 6. رسم حدود القرار\n",
    "            svm.plot_decision_boundary(X_test_scaled, y_test, \n",
    "                                       title=f\"SVM Decision Boundary ({kernel} Kernel)\")\n",
    "\n",
    "            # 7. رسم تاريخ التكلفة (إن وجد)\n",
    "            if hasattr(svm, \"plot_cost_history\"):\n",
    "                svm.plot_cost_history()\n",
    "\n",
    "        except Exception as e:\n",
    "            print(f\"\\n❌ حدث خطأ أثناء تجربة Kernel = {kernel}: {str(e)}\")\n",
    "\n",
    "    print(\"\\n🏁 ✅ انتهى المثال بنجاح لجميع الـ Kernels.\")\n"
   ]
  },
  {
   "cell_type": "markdown",
   "id": "f7e67dbe",
   "metadata": {
    "papermill": {
     "duration": 0.017396,
     "end_time": "2025-07-18T20:17:00.184370",
     "exception": false,
     "start_time": "2025-07-18T20:17:00.166974",
     "status": "completed"
    },
    "tags": []
   },
   "source": [
    "## Thank You"
   ]
  },
  {
   "cell_type": "markdown",
   "id": "dea8ea98",
   "metadata": {
    "papermill": {
     "duration": 0.015828,
     "end_time": "2025-07-18T20:17:00.216448",
     "exception": false,
     "start_time": "2025-07-18T20:17:00.200620",
     "status": "completed"
    },
    "tags": []
   },
   "source": [
    "## Made By : Ali Osama¶"
   ]
  }
 ],
 "metadata": {
  "kaggle": {
   "accelerator": "none",
   "dataSources": [
    {
     "datasetId": 2527538,
     "sourceId": 4289678,
     "sourceType": "datasetVersion"
    }
   ],
   "dockerImageVersionId": 31089,
   "isGpuEnabled": false,
   "isInternetEnabled": true,
   "language": "python",
   "sourceType": "notebook"
  },
  "kernelspec": {
   "display_name": "Python 3",
   "language": "python",
   "name": "python3"
  },
  "language_info": {
   "codemirror_mode": {
    "name": "ipython",
    "version": 3
   },
   "file_extension": ".py",
   "mimetype": "text/x-python",
   "name": "python",
   "nbconvert_exporter": "python",
   "pygments_lexer": "ipython3",
   "version": "3.11.13"
  },
  "papermill": {
   "default_parameters": {},
   "duration": 15.172236,
   "end_time": "2025-07-18T20:17:00.952068",
   "environment_variables": {},
   "exception": null,
   "input_path": "__notebook__.ipynb",
   "output_path": "__notebook__.ipynb",
   "parameters": {},
   "start_time": "2025-07-18T20:16:45.779832",
   "version": "2.6.0"
  }
 },
 "nbformat": 4,
 "nbformat_minor": 5
}
